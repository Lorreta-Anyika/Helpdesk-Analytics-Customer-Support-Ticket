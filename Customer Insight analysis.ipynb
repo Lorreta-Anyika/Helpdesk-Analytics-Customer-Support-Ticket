{
 "cells": [
  {
   "cell_type": "code",
   "execution_count": 1,
   "id": "dff97314",
   "metadata": {},
   "outputs": [],
   "source": [
    "import pandas as pd"
   ]
  },
  {
   "cell_type": "markdown",
   "id": "26431615",
   "metadata": {},
   "source": [
    "# Import Dataset\n"
   ]
  },
  {
   "cell_type": "code",
   "execution_count": 3,
   "id": "58615687",
   "metadata": {},
   "outputs": [],
   "source": [
    "customer_ticket = pd.read_csv(r'C:\\Users\\user\\Downloads\\customer_support_tickets.csv')"
   ]
  },
  {
   "cell_type": "markdown",
   "id": "8a7a3313",
   "metadata": {},
   "source": [
    "# Initial Exploration"
   ]
  },
  {
   "cell_type": "code",
   "execution_count": 23,
   "id": "2d660ee4",
   "metadata": {},
   "outputs": [
    {
     "data": {
      "text/html": [
       "<div>\n",
       "<style scoped>\n",
       "    .dataframe tbody tr th:only-of-type {\n",
       "        vertical-align: middle;\n",
       "    }\n",
       "\n",
       "    .dataframe tbody tr th {\n",
       "        vertical-align: top;\n",
       "    }\n",
       "\n",
       "    .dataframe thead th {\n",
       "        text-align: right;\n",
       "    }\n",
       "</style>\n",
       "<table border=\"1\" class=\"dataframe\">\n",
       "  <thead>\n",
       "    <tr style=\"text-align: right;\">\n",
       "      <th></th>\n",
       "      <th>Ticket ID</th>\n",
       "      <th>Customer Name</th>\n",
       "      <th>Customer Email</th>\n",
       "      <th>Customer Age</th>\n",
       "      <th>Customer Gender</th>\n",
       "      <th>Product Purchased</th>\n",
       "      <th>Date of Purchase</th>\n",
       "      <th>Ticket Type</th>\n",
       "      <th>Ticket Subject</th>\n",
       "      <th>Ticket Description</th>\n",
       "      <th>Ticket Status</th>\n",
       "      <th>Resolution</th>\n",
       "      <th>Ticket Priority</th>\n",
       "      <th>Ticket Channel</th>\n",
       "      <th>First Response Time</th>\n",
       "      <th>Time to Resolution</th>\n",
       "      <th>Customer Satisfaction Rating</th>\n",
       "    </tr>\n",
       "  </thead>\n",
       "  <tbody>\n",
       "    <tr>\n",
       "      <th>0</th>\n",
       "      <td>1</td>\n",
       "      <td>Marisa Obrien</td>\n",
       "      <td>carrollallison@example.com</td>\n",
       "      <td>32</td>\n",
       "      <td>Other</td>\n",
       "      <td>GoPro Hero</td>\n",
       "      <td>2021-03-22</td>\n",
       "      <td>Technical issue</td>\n",
       "      <td>Product setup</td>\n",
       "      <td>I'm having an issue with the {product_purchase...</td>\n",
       "      <td>Pending Customer Response</td>\n",
       "      <td>NaN</td>\n",
       "      <td>Critical</td>\n",
       "      <td>Social media</td>\n",
       "      <td>6/1/2023 12:15</td>\n",
       "      <td>NaN</td>\n",
       "      <td>NaN</td>\n",
       "    </tr>\n",
       "    <tr>\n",
       "      <th>1</th>\n",
       "      <td>2</td>\n",
       "      <td>Jessica Rios</td>\n",
       "      <td>clarkeashley@example.com</td>\n",
       "      <td>42</td>\n",
       "      <td>Female</td>\n",
       "      <td>LG Smart TV</td>\n",
       "      <td>2021-05-22</td>\n",
       "      <td>Technical issue</td>\n",
       "      <td>Peripheral compatibility</td>\n",
       "      <td>I'm having an issue with the {product_purchase...</td>\n",
       "      <td>Pending Customer Response</td>\n",
       "      <td>NaN</td>\n",
       "      <td>Critical</td>\n",
       "      <td>Chat</td>\n",
       "      <td>6/1/2023 16:45</td>\n",
       "      <td>NaN</td>\n",
       "      <td>NaN</td>\n",
       "    </tr>\n",
       "    <tr>\n",
       "      <th>2</th>\n",
       "      <td>3</td>\n",
       "      <td>Christopher Robbins</td>\n",
       "      <td>gonzalestracy@example.com</td>\n",
       "      <td>48</td>\n",
       "      <td>Other</td>\n",
       "      <td>Dell XPS</td>\n",
       "      <td>2020-07-14</td>\n",
       "      <td>Technical issue</td>\n",
       "      <td>Network problem</td>\n",
       "      <td>I'm facing a problem with my {product_purchase...</td>\n",
       "      <td>Closed</td>\n",
       "      <td>Case maybe show recently my computer follow.</td>\n",
       "      <td>Low</td>\n",
       "      <td>Social media</td>\n",
       "      <td>6/1/2023 11:14</td>\n",
       "      <td>6/1/2023 18:05</td>\n",
       "      <td>3.0</td>\n",
       "    </tr>\n",
       "    <tr>\n",
       "      <th>3</th>\n",
       "      <td>4</td>\n",
       "      <td>Christina Dillon</td>\n",
       "      <td>bradleyolson@example.org</td>\n",
       "      <td>27</td>\n",
       "      <td>Female</td>\n",
       "      <td>Microsoft Office</td>\n",
       "      <td>2020-11-13</td>\n",
       "      <td>Billing inquiry</td>\n",
       "      <td>Account access</td>\n",
       "      <td>I'm having an issue with the {product_purchase...</td>\n",
       "      <td>Closed</td>\n",
       "      <td>Try capital clearly never color toward story.</td>\n",
       "      <td>Low</td>\n",
       "      <td>Social media</td>\n",
       "      <td>6/1/2023 7:29</td>\n",
       "      <td>6/1/2023 1:57</td>\n",
       "      <td>3.0</td>\n",
       "    </tr>\n",
       "    <tr>\n",
       "      <th>4</th>\n",
       "      <td>5</td>\n",
       "      <td>Alexander Carroll</td>\n",
       "      <td>bradleymark@example.com</td>\n",
       "      <td>67</td>\n",
       "      <td>Female</td>\n",
       "      <td>Autodesk AutoCAD</td>\n",
       "      <td>2020-02-04</td>\n",
       "      <td>Billing inquiry</td>\n",
       "      <td>Data loss</td>\n",
       "      <td>I'm having an issue with the {product_purchase...</td>\n",
       "      <td>Closed</td>\n",
       "      <td>West decision evidence bit.</td>\n",
       "      <td>Low</td>\n",
       "      <td>Email</td>\n",
       "      <td>6/1/2023 0:12</td>\n",
       "      <td>6/1/2023 19:53</td>\n",
       "      <td>1.0</td>\n",
       "    </tr>\n",
       "  </tbody>\n",
       "</table>\n",
       "</div>"
      ],
      "text/plain": [
       "   Ticket ID        Customer Name              Customer Email  Customer Age  \\\n",
       "0          1        Marisa Obrien  carrollallison@example.com            32   \n",
       "1          2         Jessica Rios    clarkeashley@example.com            42   \n",
       "2          3  Christopher Robbins   gonzalestracy@example.com            48   \n",
       "3          4     Christina Dillon    bradleyolson@example.org            27   \n",
       "4          5    Alexander Carroll     bradleymark@example.com            67   \n",
       "\n",
       "  Customer Gender Product Purchased Date of Purchase      Ticket Type  \\\n",
       "0           Other        GoPro Hero       2021-03-22  Technical issue   \n",
       "1          Female       LG Smart TV       2021-05-22  Technical issue   \n",
       "2           Other          Dell XPS       2020-07-14  Technical issue   \n",
       "3          Female  Microsoft Office       2020-11-13  Billing inquiry   \n",
       "4          Female  Autodesk AutoCAD       2020-02-04  Billing inquiry   \n",
       "\n",
       "             Ticket Subject  \\\n",
       "0             Product setup   \n",
       "1  Peripheral compatibility   \n",
       "2           Network problem   \n",
       "3            Account access   \n",
       "4                 Data loss   \n",
       "\n",
       "                                  Ticket Description  \\\n",
       "0  I'm having an issue with the {product_purchase...   \n",
       "1  I'm having an issue with the {product_purchase...   \n",
       "2  I'm facing a problem with my {product_purchase...   \n",
       "3  I'm having an issue with the {product_purchase...   \n",
       "4  I'm having an issue with the {product_purchase...   \n",
       "\n",
       "               Ticket Status                                     Resolution  \\\n",
       "0  Pending Customer Response                                            NaN   \n",
       "1  Pending Customer Response                                            NaN   \n",
       "2                     Closed   Case maybe show recently my computer follow.   \n",
       "3                     Closed  Try capital clearly never color toward story.   \n",
       "4                     Closed                    West decision evidence bit.   \n",
       "\n",
       "  Ticket Priority Ticket Channel First Response Time Time to Resolution  \\\n",
       "0        Critical   Social media      6/1/2023 12:15                NaN   \n",
       "1        Critical           Chat      6/1/2023 16:45                NaN   \n",
       "2             Low   Social media      6/1/2023 11:14     6/1/2023 18:05   \n",
       "3             Low   Social media       6/1/2023 7:29      6/1/2023 1:57   \n",
       "4             Low          Email       6/1/2023 0:12     6/1/2023 19:53   \n",
       "\n",
       "   Customer Satisfaction Rating  \n",
       "0                           NaN  \n",
       "1                           NaN  \n",
       "2                           3.0  \n",
       "3                           3.0  \n",
       "4                           1.0  "
      ]
     },
     "execution_count": 23,
     "metadata": {},
     "output_type": "execute_result"
    }
   ],
   "source": [
    "#extract first 5 rows\n",
    "customer_ticket.head(5)"
   ]
  },
  {
   "cell_type": "code",
   "execution_count": 24,
   "id": "296ffa5b",
   "metadata": {},
   "outputs": [
    {
     "data": {
      "text/html": [
       "<div>\n",
       "<style scoped>\n",
       "    .dataframe tbody tr th:only-of-type {\n",
       "        vertical-align: middle;\n",
       "    }\n",
       "\n",
       "    .dataframe tbody tr th {\n",
       "        vertical-align: top;\n",
       "    }\n",
       "\n",
       "    .dataframe thead th {\n",
       "        text-align: right;\n",
       "    }\n",
       "</style>\n",
       "<table border=\"1\" class=\"dataframe\">\n",
       "  <thead>\n",
       "    <tr style=\"text-align: right;\">\n",
       "      <th></th>\n",
       "      <th>Ticket ID</th>\n",
       "      <th>Customer Name</th>\n",
       "      <th>Customer Email</th>\n",
       "      <th>Customer Age</th>\n",
       "      <th>Customer Gender</th>\n",
       "      <th>Product Purchased</th>\n",
       "      <th>Date of Purchase</th>\n",
       "      <th>Ticket Type</th>\n",
       "      <th>Ticket Subject</th>\n",
       "      <th>Ticket Description</th>\n",
       "      <th>Ticket Status</th>\n",
       "      <th>Resolution</th>\n",
       "      <th>Ticket Priority</th>\n",
       "      <th>Ticket Channel</th>\n",
       "      <th>First Response Time</th>\n",
       "      <th>Time to Resolution</th>\n",
       "      <th>Customer Satisfaction Rating</th>\n",
       "    </tr>\n",
       "  </thead>\n",
       "  <tbody>\n",
       "    <tr>\n",
       "      <th>8464</th>\n",
       "      <td>8465</td>\n",
       "      <td>David Todd</td>\n",
       "      <td>adam28@example.net</td>\n",
       "      <td>22</td>\n",
       "      <td>Female</td>\n",
       "      <td>LG OLED</td>\n",
       "      <td>2021-12-08</td>\n",
       "      <td>Product inquiry</td>\n",
       "      <td>Installation support</td>\n",
       "      <td>My {product_purchased} is making strange noise...</td>\n",
       "      <td>Open</td>\n",
       "      <td>NaN</td>\n",
       "      <td>Low</td>\n",
       "      <td>Phone</td>\n",
       "      <td>NaN</td>\n",
       "      <td>NaN</td>\n",
       "      <td>NaN</td>\n",
       "    </tr>\n",
       "    <tr>\n",
       "      <th>8465</th>\n",
       "      <td>8466</td>\n",
       "      <td>Lori Davis</td>\n",
       "      <td>russell68@example.com</td>\n",
       "      <td>27</td>\n",
       "      <td>Female</td>\n",
       "      <td>Bose SoundLink Speaker</td>\n",
       "      <td>2020-02-22</td>\n",
       "      <td>Technical issue</td>\n",
       "      <td>Refund request</td>\n",
       "      <td>I'm having an issue with the {product_purchase...</td>\n",
       "      <td>Open</td>\n",
       "      <td>NaN</td>\n",
       "      <td>Critical</td>\n",
       "      <td>Email</td>\n",
       "      <td>NaN</td>\n",
       "      <td>NaN</td>\n",
       "      <td>NaN</td>\n",
       "    </tr>\n",
       "    <tr>\n",
       "      <th>8466</th>\n",
       "      <td>8467</td>\n",
       "      <td>Michelle Kelley</td>\n",
       "      <td>ashley83@example.org</td>\n",
       "      <td>57</td>\n",
       "      <td>Female</td>\n",
       "      <td>GoPro Action Camera</td>\n",
       "      <td>2021-08-17</td>\n",
       "      <td>Technical issue</td>\n",
       "      <td>Account access</td>\n",
       "      <td>I'm having an issue with the {product_purchase...</td>\n",
       "      <td>Closed</td>\n",
       "      <td>Eight account century nature kitchen.</td>\n",
       "      <td>High</td>\n",
       "      <td>Social media</td>\n",
       "      <td>6/1/2023 9:44</td>\n",
       "      <td>6/1/2023 4:31</td>\n",
       "      <td>3.0</td>\n",
       "    </tr>\n",
       "    <tr>\n",
       "      <th>8467</th>\n",
       "      <td>8468</td>\n",
       "      <td>Steven Rodriguez</td>\n",
       "      <td>fpowell@example.org</td>\n",
       "      <td>54</td>\n",
       "      <td>Male</td>\n",
       "      <td>PlayStation</td>\n",
       "      <td>2021-10-16</td>\n",
       "      <td>Product inquiry</td>\n",
       "      <td>Payment issue</td>\n",
       "      <td>I'm having an issue with the {product_purchase...</td>\n",
       "      <td>Closed</td>\n",
       "      <td>We seat culture plan.</td>\n",
       "      <td>Medium</td>\n",
       "      <td>Email</td>\n",
       "      <td>6/1/2023 18:28</td>\n",
       "      <td>6/1/2023 5:32</td>\n",
       "      <td>3.0</td>\n",
       "    </tr>\n",
       "    <tr>\n",
       "      <th>8468</th>\n",
       "      <td>8469</td>\n",
       "      <td>Steven Davis MD</td>\n",
       "      <td>lori20@example.net</td>\n",
       "      <td>53</td>\n",
       "      <td>Other</td>\n",
       "      <td>Philips Hue Lights</td>\n",
       "      <td>2020-06-01</td>\n",
       "      <td>Billing inquiry</td>\n",
       "      <td>Hardware issue</td>\n",
       "      <td>There seems to be a hardware problem with my {...</td>\n",
       "      <td>Open</td>\n",
       "      <td>NaN</td>\n",
       "      <td>High</td>\n",
       "      <td>Phone</td>\n",
       "      <td>NaN</td>\n",
       "      <td>NaN</td>\n",
       "      <td>NaN</td>\n",
       "    </tr>\n",
       "  </tbody>\n",
       "</table>\n",
       "</div>"
      ],
      "text/plain": [
       "      Ticket ID     Customer Name         Customer Email  Customer Age  \\\n",
       "8464       8465        David Todd     adam28@example.net            22   \n",
       "8465       8466        Lori Davis  russell68@example.com            27   \n",
       "8466       8467   Michelle Kelley   ashley83@example.org            57   \n",
       "8467       8468  Steven Rodriguez    fpowell@example.org            54   \n",
       "8468       8469   Steven Davis MD     lori20@example.net            53   \n",
       "\n",
       "     Customer Gender       Product Purchased Date of Purchase  \\\n",
       "8464          Female                 LG OLED       2021-12-08   \n",
       "8465          Female  Bose SoundLink Speaker       2020-02-22   \n",
       "8466          Female     GoPro Action Camera       2021-08-17   \n",
       "8467            Male             PlayStation       2021-10-16   \n",
       "8468           Other      Philips Hue Lights       2020-06-01   \n",
       "\n",
       "          Ticket Type        Ticket Subject  \\\n",
       "8464  Product inquiry  Installation support   \n",
       "8465  Technical issue        Refund request   \n",
       "8466  Technical issue        Account access   \n",
       "8467  Product inquiry         Payment issue   \n",
       "8468  Billing inquiry        Hardware issue   \n",
       "\n",
       "                                     Ticket Description Ticket Status  \\\n",
       "8464  My {product_purchased} is making strange noise...          Open   \n",
       "8465  I'm having an issue with the {product_purchase...          Open   \n",
       "8466  I'm having an issue with the {product_purchase...        Closed   \n",
       "8467  I'm having an issue with the {product_purchase...        Closed   \n",
       "8468  There seems to be a hardware problem with my {...          Open   \n",
       "\n",
       "                                 Resolution Ticket Priority Ticket Channel  \\\n",
       "8464                                    NaN             Low          Phone   \n",
       "8465                                    NaN        Critical          Email   \n",
       "8466  Eight account century nature kitchen.            High   Social media   \n",
       "8467                  We seat culture plan.          Medium          Email   \n",
       "8468                                    NaN            High          Phone   \n",
       "\n",
       "     First Response Time Time to Resolution  Customer Satisfaction Rating  \n",
       "8464                 NaN                NaN                           NaN  \n",
       "8465                 NaN                NaN                           NaN  \n",
       "8466       6/1/2023 9:44      6/1/2023 4:31                           3.0  \n",
       "8467      6/1/2023 18:28      6/1/2023 5:32                           3.0  \n",
       "8468                 NaN                NaN                           NaN  "
      ]
     },
     "execution_count": 24,
     "metadata": {},
     "output_type": "execute_result"
    }
   ],
   "source": [
    "# Extract last 5 rows\n",
    "customer_ticket.tail(5)"
   ]
  },
  {
   "cell_type": "code",
   "execution_count": 25,
   "id": "c53d110f",
   "metadata": {},
   "outputs": [
    {
     "data": {
      "text/plain": [
       "(8469, 17)"
      ]
     },
     "execution_count": 25,
     "metadata": {},
     "output_type": "execute_result"
    }
   ],
   "source": [
    "#How many rows and columns\n",
    "customer_ticket.shape"
   ]
  },
  {
   "cell_type": "code",
   "execution_count": 27,
   "id": "820eefb2",
   "metadata": {},
   "outputs": [
    {
     "name": "stdout",
     "output_type": "stream",
     "text": [
      "<class 'pandas.core.frame.DataFrame'>\n",
      "RangeIndex: 8469 entries, 0 to 8468\n",
      "Data columns (total 17 columns):\n",
      " #   Column                        Non-Null Count  Dtype         \n",
      "---  ------                        --------------  -----         \n",
      " 0   Ticket ID                     8469 non-null   int64         \n",
      " 1   Customer Name                 8469 non-null   object        \n",
      " 2   Customer Email                8469 non-null   object        \n",
      " 3   Customer Age                  8469 non-null   int64         \n",
      " 4   Customer Gender               8469 non-null   object        \n",
      " 5   Product Purchased             8469 non-null   object        \n",
      " 6   Date of Purchase              8469 non-null   datetime64[ns]\n",
      " 7   Ticket Type                   8469 non-null   object        \n",
      " 8   Ticket Subject                8469 non-null   object        \n",
      " 9   Ticket Description            8469 non-null   object        \n",
      " 10  Ticket Status                 8469 non-null   object        \n",
      " 11  Resolution                    2769 non-null   object        \n",
      " 12  Ticket Priority               8469 non-null   object        \n",
      " 13  Ticket Channel                8469 non-null   object        \n",
      " 14  First Response Time           5650 non-null   object        \n",
      " 15  Time to Resolution            2769 non-null   object        \n",
      " 16  Customer Satisfaction Rating  2769 non-null   float64       \n",
      "dtypes: datetime64[ns](1), float64(1), int64(2), object(13)\n",
      "memory usage: 1.1+ MB\n"
     ]
    }
   ],
   "source": [
    "#Display the columns, number of records per column, datatypes of column\n",
    "customer_ticket.info()"
   ]
  },
  {
   "cell_type": "markdown",
   "id": "1ae30a52",
   "metadata": {},
   "source": [
    "### observation: there are missing values "
   ]
  },
  {
   "cell_type": "code",
   "execution_count": 29,
   "id": "b2b255a7",
   "metadata": {},
   "outputs": [
    {
     "data": {
      "text/html": [
       "<div>\n",
       "<style scoped>\n",
       "    .dataframe tbody tr th:only-of-type {\n",
       "        vertical-align: middle;\n",
       "    }\n",
       "\n",
       "    .dataframe tbody tr th {\n",
       "        vertical-align: top;\n",
       "    }\n",
       "\n",
       "    .dataframe thead th {\n",
       "        text-align: right;\n",
       "    }\n",
       "</style>\n",
       "<table border=\"1\" class=\"dataframe\">\n",
       "  <thead>\n",
       "    <tr style=\"text-align: right;\">\n",
       "      <th></th>\n",
       "      <th>Ticket ID</th>\n",
       "      <th>Customer Age</th>\n",
       "      <th>Date of Purchase</th>\n",
       "      <th>Customer Satisfaction Rating</th>\n",
       "    </tr>\n",
       "  </thead>\n",
       "  <tbody>\n",
       "    <tr>\n",
       "      <th>count</th>\n",
       "      <td>8469.000000</td>\n",
       "      <td>8469.000000</td>\n",
       "      <td>8469</td>\n",
       "      <td>2769.000000</td>\n",
       "    </tr>\n",
       "    <tr>\n",
       "      <th>mean</th>\n",
       "      <td>4235.000000</td>\n",
       "      <td>44.026804</td>\n",
       "      <td>2020-12-30 01:35:13.071201024</td>\n",
       "      <td>2.991333</td>\n",
       "    </tr>\n",
       "    <tr>\n",
       "      <th>min</th>\n",
       "      <td>1.000000</td>\n",
       "      <td>18.000000</td>\n",
       "      <td>2020-01-01 00:00:00</td>\n",
       "      <td>1.000000</td>\n",
       "    </tr>\n",
       "    <tr>\n",
       "      <th>25%</th>\n",
       "      <td>2118.000000</td>\n",
       "      <td>31.000000</td>\n",
       "      <td>2020-07-02 00:00:00</td>\n",
       "      <td>2.000000</td>\n",
       "    </tr>\n",
       "    <tr>\n",
       "      <th>50%</th>\n",
       "      <td>4235.000000</td>\n",
       "      <td>44.000000</td>\n",
       "      <td>2020-12-31 00:00:00</td>\n",
       "      <td>3.000000</td>\n",
       "    </tr>\n",
       "    <tr>\n",
       "      <th>75%</th>\n",
       "      <td>6352.000000</td>\n",
       "      <td>57.000000</td>\n",
       "      <td>2021-07-01 00:00:00</td>\n",
       "      <td>4.000000</td>\n",
       "    </tr>\n",
       "    <tr>\n",
       "      <th>max</th>\n",
       "      <td>8469.000000</td>\n",
       "      <td>70.000000</td>\n",
       "      <td>2021-12-30 00:00:00</td>\n",
       "      <td>5.000000</td>\n",
       "    </tr>\n",
       "    <tr>\n",
       "      <th>std</th>\n",
       "      <td>2444.934048</td>\n",
       "      <td>15.296112</td>\n",
       "      <td>NaN</td>\n",
       "      <td>1.407016</td>\n",
       "    </tr>\n",
       "  </tbody>\n",
       "</table>\n",
       "</div>"
      ],
      "text/plain": [
       "         Ticket ID  Customer Age               Date of Purchase  \\\n",
       "count  8469.000000   8469.000000                           8469   \n",
       "mean   4235.000000     44.026804  2020-12-30 01:35:13.071201024   \n",
       "min       1.000000     18.000000            2020-01-01 00:00:00   \n",
       "25%    2118.000000     31.000000            2020-07-02 00:00:00   \n",
       "50%    4235.000000     44.000000            2020-12-31 00:00:00   \n",
       "75%    6352.000000     57.000000            2021-07-01 00:00:00   \n",
       "max    8469.000000     70.000000            2021-12-30 00:00:00   \n",
       "std    2444.934048     15.296112                            NaN   \n",
       "\n",
       "       Customer Satisfaction Rating  \n",
       "count                   2769.000000  \n",
       "mean                       2.991333  \n",
       "min                        1.000000  \n",
       "25%                        2.000000  \n",
       "50%                        3.000000  \n",
       "75%                        4.000000  \n",
       "max                        5.000000  \n",
       "std                        1.407016  "
      ]
     },
     "execution_count": 29,
     "metadata": {},
     "output_type": "execute_result"
    }
   ],
   "source": [
    "#Summarization of data\n",
    "customer_ticket.describe()"
   ]
  },
  {
   "cell_type": "markdown",
   "id": "317b7ff9",
   "metadata": {},
   "source": [
    "# Handling Missing Values"
   ]
  },
  {
   "cell_type": "code",
   "execution_count": 30,
   "id": "c6c85ac4",
   "metadata": {},
   "outputs": [
    {
     "data": {
      "text/plain": [
       "Ticket ID                          0\n",
       "Customer Name                      0\n",
       "Customer Email                     0\n",
       "Customer Age                       0\n",
       "Customer Gender                    0\n",
       "Product Purchased                  0\n",
       "Date of Purchase                   0\n",
       "Ticket Type                        0\n",
       "Ticket Subject                     0\n",
       "Ticket Description                 0\n",
       "Ticket Status                      0\n",
       "Resolution                      5700\n",
       "Ticket Priority                    0\n",
       "Ticket Channel                     0\n",
       "First Response Time             2819\n",
       "Time to Resolution              5700\n",
       "Customer Satisfaction Rating    5700\n",
       "dtype: int64"
      ]
     },
     "execution_count": 30,
     "metadata": {},
     "output_type": "execute_result"
    }
   ],
   "source": [
    "customer_ticket.isnull().sum()"
   ]
  },
  {
   "cell_type": "markdown",
   "id": "793448fc",
   "metadata": {},
   "source": [
    "#### A. Visualize and Confirm Patterns\n",
    "###### Before filling or dropping, confirm if missing values are related to ticket status:"
   ]
  },
  {
   "cell_type": "code",
   "execution_count": 31,
   "id": "86a80232",
   "metadata": {},
   "outputs": [
    {
     "name": "stdout",
     "output_type": "stream",
     "text": [
      "                           Resolution  Time to Resolution  \\\n",
      "Ticket Status                                               \n",
      "Closed                              0                   0   \n",
      "Open                             2819                2819   \n",
      "Pending Customer Response        2881                2881   \n",
      "\n",
      "                           Customer Satisfaction Rating  First Response Time  \n",
      "Ticket Status                                                                 \n",
      "Closed                                                0                    0  \n",
      "Open                                               2819                 2819  \n",
      "Pending Customer Response                          2881                    0  \n"
     ]
    }
   ],
   "source": [
    "# Check missing values by Ticket Status\n",
    "missing_summary = customer_ticket.groupby('Ticket Status')[['Resolution', 'Time to Resolution', 'Customer Satisfaction Rating', 'First Response Time']].apply(lambda x: x.isnull().sum())\n",
    "print(missing_summary)\n"
   ]
  },
  {
   "cell_type": "markdown",
   "id": "211c1aad",
   "metadata": {},
   "source": [
    "##### Interpretation:\n",
    "Missing values are not random: They depend on the ticket status.\n",
    "\n",
    "Closed tickets are complete in these fields.\n",
    "\n",
    "Open and Pending tickets are missing resolution-related fields, because they are not finished yet.\n",
    "\n",
    "First Response Time is present for tickets where support has replied at least once (Closed or Pending Customer Response), but missing for tickets never responded to (Open).\n",
    "\n",
    "##### Inference\n",
    "When analyzing resolution, satisfaction, or time metrics, only use closed tickets.\n",
    "\n",
    "To analyze response times, use both closed and pending customer response tickets.\n",
    "\n",
    "Do not fill these missing values—they are logically missing, not due to data error.\n"
   ]
  },
  {
   "cell_type": "code",
   "execution_count": 34,
   "id": "0012c62b",
   "metadata": {},
   "outputs": [
    {
     "data": {
      "text/plain": [
       "(2769, 17)"
      ]
     },
     "execution_count": 34,
     "metadata": {},
     "output_type": "execute_result"
    }
   ],
   "source": [
    "# Filtering for Analysis\n",
    "resolved_ticket = customer_ticket[customer_ticket['Ticket Status'] == 'Closed']\n",
    "resolved_ticket.shape"
   ]
  },
  {
   "cell_type": "code",
   "execution_count": 40,
   "id": "a5fddfca",
   "metadata": {},
   "outputs": [
    {
     "name": "stdout",
     "output_type": "stream",
     "text": [
      "Average satisfaction rating (closed tickets) is 3.0\n"
     ]
    }
   ],
   "source": [
    "#avg satisfaction rate\n",
    "avg_satisfaction= resolved_ticket['Customer Satisfaction Rating'].mean()\n",
    "avg_satisfaction= round(avg_satisfaction, 0)\n",
    "print(f\"Average satisfaction rating (closed tickets) is {avg_satisfaction}\")"
   ]
  },
  {
   "cell_type": "code",
   "execution_count": null,
   "id": "b08aadae",
   "metadata": {},
   "outputs": [],
   "source": []
  },
  {
   "cell_type": "markdown",
   "id": "bc6c3126",
   "metadata": {},
   "source": [
    "# Convert time column"
   ]
  },
  {
   "cell_type": "code",
   "execution_count": 97,
   "id": "f3b7c583",
   "metadata": {},
   "outputs": [],
   "source": [
    "import pandas as pd\n",
    "\n",
    "# Convert to datetime, handling missing values\n",
    "customer_ticket['First Response Time'] = pd.to_datetime(customer_ticket['First Response Time'], errors='coerce')\n",
    "customer_ticket['Time to Resolution'] = pd.to_datetime(customer_ticket['Time to Resolution'], errors='coerce')\n"
   ]
  },
  {
   "cell_type": "markdown",
   "id": "b124054b",
   "metadata": {},
   "source": [
    "# Convert Date Column"
   ]
  },
  {
   "cell_type": "code",
   "execution_count": 41,
   "id": "0e01c1a3",
   "metadata": {},
   "outputs": [
    {
     "data": {
      "text/html": [
       "<div>\n",
       "<style scoped>\n",
       "    .dataframe tbody tr th:only-of-type {\n",
       "        vertical-align: middle;\n",
       "    }\n",
       "\n",
       "    .dataframe tbody tr th {\n",
       "        vertical-align: top;\n",
       "    }\n",
       "\n",
       "    .dataframe thead th {\n",
       "        text-align: right;\n",
       "    }\n",
       "</style>\n",
       "<table border=\"1\" class=\"dataframe\">\n",
       "  <thead>\n",
       "    <tr style=\"text-align: right;\">\n",
       "      <th></th>\n",
       "      <th>Ticket ID</th>\n",
       "      <th>Customer Name</th>\n",
       "      <th>Customer Email</th>\n",
       "      <th>Customer Age</th>\n",
       "      <th>Customer Gender</th>\n",
       "      <th>Product Purchased</th>\n",
       "      <th>Date of Purchase</th>\n",
       "      <th>Ticket Type</th>\n",
       "      <th>Ticket Subject</th>\n",
       "      <th>Ticket Description</th>\n",
       "      <th>Ticket Status</th>\n",
       "      <th>Resolution</th>\n",
       "      <th>Ticket Priority</th>\n",
       "      <th>Ticket Channel</th>\n",
       "      <th>First Response Time</th>\n",
       "      <th>Time to Resolution</th>\n",
       "      <th>Customer Satisfaction Rating</th>\n",
       "    </tr>\n",
       "  </thead>\n",
       "  <tbody>\n",
       "    <tr>\n",
       "      <th>0</th>\n",
       "      <td>1</td>\n",
       "      <td>Marisa Obrien</td>\n",
       "      <td>carrollallison@example.com</td>\n",
       "      <td>32</td>\n",
       "      <td>Other</td>\n",
       "      <td>GoPro Hero</td>\n",
       "      <td>2021-03-22</td>\n",
       "      <td>Technical issue</td>\n",
       "      <td>Product setup</td>\n",
       "      <td>I'm having an issue with the {product_purchase...</td>\n",
       "      <td>Pending Customer Response</td>\n",
       "      <td>NaN</td>\n",
       "      <td>Critical</td>\n",
       "      <td>Social media</td>\n",
       "      <td>6/1/2023 12:15</td>\n",
       "      <td>NaN</td>\n",
       "      <td>NaN</td>\n",
       "    </tr>\n",
       "    <tr>\n",
       "      <th>1</th>\n",
       "      <td>2</td>\n",
       "      <td>Jessica Rios</td>\n",
       "      <td>clarkeashley@example.com</td>\n",
       "      <td>42</td>\n",
       "      <td>Female</td>\n",
       "      <td>LG Smart TV</td>\n",
       "      <td>2021-05-22</td>\n",
       "      <td>Technical issue</td>\n",
       "      <td>Peripheral compatibility</td>\n",
       "      <td>I'm having an issue with the {product_purchase...</td>\n",
       "      <td>Pending Customer Response</td>\n",
       "      <td>NaN</td>\n",
       "      <td>Critical</td>\n",
       "      <td>Chat</td>\n",
       "      <td>6/1/2023 16:45</td>\n",
       "      <td>NaN</td>\n",
       "      <td>NaN</td>\n",
       "    </tr>\n",
       "    <tr>\n",
       "      <th>2</th>\n",
       "      <td>3</td>\n",
       "      <td>Christopher Robbins</td>\n",
       "      <td>gonzalestracy@example.com</td>\n",
       "      <td>48</td>\n",
       "      <td>Other</td>\n",
       "      <td>Dell XPS</td>\n",
       "      <td>2020-07-14</td>\n",
       "      <td>Technical issue</td>\n",
       "      <td>Network problem</td>\n",
       "      <td>I'm facing a problem with my {product_purchase...</td>\n",
       "      <td>Closed</td>\n",
       "      <td>Case maybe show recently my computer follow.</td>\n",
       "      <td>Low</td>\n",
       "      <td>Social media</td>\n",
       "      <td>6/1/2023 11:14</td>\n",
       "      <td>6/1/2023 18:05</td>\n",
       "      <td>3.0</td>\n",
       "    </tr>\n",
       "  </tbody>\n",
       "</table>\n",
       "</div>"
      ],
      "text/plain": [
       "   Ticket ID        Customer Name              Customer Email  Customer Age  \\\n",
       "0          1        Marisa Obrien  carrollallison@example.com            32   \n",
       "1          2         Jessica Rios    clarkeashley@example.com            42   \n",
       "2          3  Christopher Robbins   gonzalestracy@example.com            48   \n",
       "\n",
       "  Customer Gender Product Purchased Date of Purchase      Ticket Type  \\\n",
       "0           Other        GoPro Hero       2021-03-22  Technical issue   \n",
       "1          Female       LG Smart TV       2021-05-22  Technical issue   \n",
       "2           Other          Dell XPS       2020-07-14  Technical issue   \n",
       "\n",
       "             Ticket Subject  \\\n",
       "0             Product setup   \n",
       "1  Peripheral compatibility   \n",
       "2           Network problem   \n",
       "\n",
       "                                  Ticket Description  \\\n",
       "0  I'm having an issue with the {product_purchase...   \n",
       "1  I'm having an issue with the {product_purchase...   \n",
       "2  I'm facing a problem with my {product_purchase...   \n",
       "\n",
       "               Ticket Status                                    Resolution  \\\n",
       "0  Pending Customer Response                                           NaN   \n",
       "1  Pending Customer Response                                           NaN   \n",
       "2                     Closed  Case maybe show recently my computer follow.   \n",
       "\n",
       "  Ticket Priority Ticket Channel First Response Time Time to Resolution  \\\n",
       "0        Critical   Social media      6/1/2023 12:15                NaN   \n",
       "1        Critical           Chat      6/1/2023 16:45                NaN   \n",
       "2             Low   Social media      6/1/2023 11:14     6/1/2023 18:05   \n",
       "\n",
       "   Customer Satisfaction Rating  \n",
       "0                           NaN  \n",
       "1                           NaN  \n",
       "2                           3.0  "
      ]
     },
     "execution_count": 41,
     "metadata": {},
     "output_type": "execute_result"
    }
   ],
   "source": [
    "customer_ticket['Date of Purchase'] = pd.to_datetime(customer_ticket['Date of Purchase'])\n",
    "customer_ticket.head(3)"
   ]
  },
  {
   "cell_type": "markdown",
   "id": "615a8b7a",
   "metadata": {},
   "source": [
    "# Extract date feature"
   ]
  },
  {
   "cell_type": "code",
   "execution_count": 43,
   "id": "53a62212",
   "metadata": {},
   "outputs": [],
   "source": [
    "customer_ticket[\"Year\"] = customer_ticket[\"Date of Purchase\"].dt.year\n",
    "customer_ticket[\"Month\"] = customer_ticket[\"Date of Purchase\"].dt.month\n",
    "customer_ticket[\"Monthname\"] = customer_ticket[\"Date of Purchase\"].dt.month_name()\n",
    "customer_ticket[\"Day\"] = customer_ticket[\"Date of Purchase\"].dt.day\n",
    "customer_ticket[\"DayofWeek\"] = customer_ticket[\"Date of Purchase\"].dt.dayofweek"
   ]
  },
  {
   "cell_type": "code",
   "execution_count": 45,
   "id": "75ac6a20",
   "metadata": {},
   "outputs": [
    {
     "data": {
      "text/html": [
       "<div>\n",
       "<style scoped>\n",
       "    .dataframe tbody tr th:only-of-type {\n",
       "        vertical-align: middle;\n",
       "    }\n",
       "\n",
       "    .dataframe tbody tr th {\n",
       "        vertical-align: top;\n",
       "    }\n",
       "\n",
       "    .dataframe thead th {\n",
       "        text-align: right;\n",
       "    }\n",
       "</style>\n",
       "<table border=\"1\" class=\"dataframe\">\n",
       "  <thead>\n",
       "    <tr style=\"text-align: right;\">\n",
       "      <th></th>\n",
       "      <th>Ticket ID</th>\n",
       "      <th>Customer Name</th>\n",
       "      <th>Customer Email</th>\n",
       "      <th>Customer Age</th>\n",
       "      <th>Customer Gender</th>\n",
       "      <th>Product Purchased</th>\n",
       "      <th>Date of Purchase</th>\n",
       "      <th>Ticket Type</th>\n",
       "      <th>Ticket Subject</th>\n",
       "      <th>Ticket Description</th>\n",
       "      <th>...</th>\n",
       "      <th>Ticket Priority</th>\n",
       "      <th>Ticket Channel</th>\n",
       "      <th>First Response Time</th>\n",
       "      <th>Time to Resolution</th>\n",
       "      <th>Customer Satisfaction Rating</th>\n",
       "      <th>Year</th>\n",
       "      <th>Month</th>\n",
       "      <th>Monthname</th>\n",
       "      <th>Day</th>\n",
       "      <th>DayofWeek</th>\n",
       "    </tr>\n",
       "  </thead>\n",
       "  <tbody>\n",
       "    <tr>\n",
       "      <th>0</th>\n",
       "      <td>1</td>\n",
       "      <td>Marisa Obrien</td>\n",
       "      <td>carrollallison@example.com</td>\n",
       "      <td>32</td>\n",
       "      <td>Other</td>\n",
       "      <td>GoPro Hero</td>\n",
       "      <td>2021-03-22</td>\n",
       "      <td>Technical issue</td>\n",
       "      <td>Product setup</td>\n",
       "      <td>I'm having an issue with the {product_purchase...</td>\n",
       "      <td>...</td>\n",
       "      <td>Critical</td>\n",
       "      <td>Social media</td>\n",
       "      <td>6/1/2023 12:15</td>\n",
       "      <td>NaN</td>\n",
       "      <td>NaN</td>\n",
       "      <td>2021</td>\n",
       "      <td>3</td>\n",
       "      <td>March</td>\n",
       "      <td>22</td>\n",
       "      <td>0</td>\n",
       "    </tr>\n",
       "    <tr>\n",
       "      <th>1</th>\n",
       "      <td>2</td>\n",
       "      <td>Jessica Rios</td>\n",
       "      <td>clarkeashley@example.com</td>\n",
       "      <td>42</td>\n",
       "      <td>Female</td>\n",
       "      <td>LG Smart TV</td>\n",
       "      <td>2021-05-22</td>\n",
       "      <td>Technical issue</td>\n",
       "      <td>Peripheral compatibility</td>\n",
       "      <td>I'm having an issue with the {product_purchase...</td>\n",
       "      <td>...</td>\n",
       "      <td>Critical</td>\n",
       "      <td>Chat</td>\n",
       "      <td>6/1/2023 16:45</td>\n",
       "      <td>NaN</td>\n",
       "      <td>NaN</td>\n",
       "      <td>2021</td>\n",
       "      <td>5</td>\n",
       "      <td>May</td>\n",
       "      <td>22</td>\n",
       "      <td>5</td>\n",
       "    </tr>\n",
       "    <tr>\n",
       "      <th>2</th>\n",
       "      <td>3</td>\n",
       "      <td>Christopher Robbins</td>\n",
       "      <td>gonzalestracy@example.com</td>\n",
       "      <td>48</td>\n",
       "      <td>Other</td>\n",
       "      <td>Dell XPS</td>\n",
       "      <td>2020-07-14</td>\n",
       "      <td>Technical issue</td>\n",
       "      <td>Network problem</td>\n",
       "      <td>I'm facing a problem with my {product_purchase...</td>\n",
       "      <td>...</td>\n",
       "      <td>Low</td>\n",
       "      <td>Social media</td>\n",
       "      <td>6/1/2023 11:14</td>\n",
       "      <td>6/1/2023 18:05</td>\n",
       "      <td>3.0</td>\n",
       "      <td>2020</td>\n",
       "      <td>7</td>\n",
       "      <td>July</td>\n",
       "      <td>14</td>\n",
       "      <td>1</td>\n",
       "    </tr>\n",
       "  </tbody>\n",
       "</table>\n",
       "<p>3 rows × 22 columns</p>\n",
       "</div>"
      ],
      "text/plain": [
       "   Ticket ID        Customer Name              Customer Email  Customer Age  \\\n",
       "0          1        Marisa Obrien  carrollallison@example.com            32   \n",
       "1          2         Jessica Rios    clarkeashley@example.com            42   \n",
       "2          3  Christopher Robbins   gonzalestracy@example.com            48   \n",
       "\n",
       "  Customer Gender Product Purchased Date of Purchase      Ticket Type  \\\n",
       "0           Other        GoPro Hero       2021-03-22  Technical issue   \n",
       "1          Female       LG Smart TV       2021-05-22  Technical issue   \n",
       "2           Other          Dell XPS       2020-07-14  Technical issue   \n",
       "\n",
       "             Ticket Subject  \\\n",
       "0             Product setup   \n",
       "1  Peripheral compatibility   \n",
       "2           Network problem   \n",
       "\n",
       "                                  Ticket Description  ... Ticket Priority  \\\n",
       "0  I'm having an issue with the {product_purchase...  ...        Critical   \n",
       "1  I'm having an issue with the {product_purchase...  ...        Critical   \n",
       "2  I'm facing a problem with my {product_purchase...  ...             Low   \n",
       "\n",
       "  Ticket Channel First Response Time Time to Resolution  \\\n",
       "0   Social media      6/1/2023 12:15                NaN   \n",
       "1           Chat      6/1/2023 16:45                NaN   \n",
       "2   Social media      6/1/2023 11:14     6/1/2023 18:05   \n",
       "\n",
       "  Customer Satisfaction Rating  Year  Month  Monthname  Day DayofWeek  \n",
       "0                          NaN  2021      3      March   22         0  \n",
       "1                          NaN  2021      5        May   22         5  \n",
       "2                          3.0  2020      7       July   14         1  \n",
       "\n",
       "[3 rows x 22 columns]"
      ]
     },
     "execution_count": 45,
     "metadata": {},
     "output_type": "execute_result"
    }
   ],
   "source": [
    "customer_ticket.head(3)\n"
   ]
  },
  {
   "cell_type": "markdown",
   "id": "a55ad4a3",
   "metadata": {},
   "source": [
    "# Handle Duplicate value"
   ]
  },
  {
   "cell_type": "code",
   "execution_count": 14,
   "id": "55df263e",
   "metadata": {},
   "outputs": [
    {
     "data": {
      "text/plain": [
       "0"
      ]
     },
     "execution_count": 14,
     "metadata": {},
     "output_type": "execute_result"
    }
   ],
   "source": [
    "customer_ticket.duplicated().sum()"
   ]
  },
  {
   "cell_type": "markdown",
   "id": "7e5d2c8f",
   "metadata": {},
   "source": [
    "# Exploratory Data Analysis (EDA)"
   ]
  },
  {
   "cell_type": "markdown",
   "id": "f48a55e9",
   "metadata": {},
   "source": [
    "### Univariate Analysis"
   ]
  },
  {
   "cell_type": "code",
   "execution_count": 47,
   "id": "30083ea8",
   "metadata": {},
   "outputs": [
    {
     "data": {
      "text/plain": [
       "Ticket Status\n",
       "Pending Customer Response    2881\n",
       "Open                         2819\n",
       "Closed                       2769\n",
       "Name: count, dtype: int64"
      ]
     },
     "execution_count": 47,
     "metadata": {},
     "output_type": "execute_result"
    }
   ],
   "source": [
    "# 1. Ticket Status Distribution\n",
    "customer_ticket['Ticket Status'].value_counts()"
   ]
  },
  {
   "cell_type": "code",
   "execution_count": 48,
   "id": "c2995d0c",
   "metadata": {},
   "outputs": [
    {
     "data": {
      "text/plain": [
       "Ticket Priority\n",
       "Medium      2192\n",
       "Critical    2129\n",
       "High        2085\n",
       "Low         2063\n",
       "Name: count, dtype: int64"
      ]
     },
     "execution_count": 48,
     "metadata": {},
     "output_type": "execute_result"
    }
   ],
   "source": [
    "# 2. Ticket Priority Distribution\n",
    "customer_ticket['Ticket Priority'].value_counts()"
   ]
  },
  {
   "cell_type": "code",
   "execution_count": 49,
   "id": "139792d8",
   "metadata": {},
   "outputs": [
    {
     "data": {
      "text/plain": [
       "Ticket Channel\n",
       "Email           2143\n",
       "Phone           2132\n",
       "Social media    2121\n",
       "Chat            2073\n",
       "Name: count, dtype: int64"
      ]
     },
     "execution_count": 49,
     "metadata": {},
     "output_type": "execute_result"
    }
   ],
   "source": [
    "# 3. Ticket Channel Distribution\n",
    "customer_ticket['Ticket Channel'].value_counts()"
   ]
  },
  {
   "cell_type": "code",
   "execution_count": 54,
   "id": "6c11c29c",
   "metadata": {},
   "outputs": [
    {
     "data": {
      "text/plain": [
       "Customer Gender\n",
       "Male      2896\n",
       "Female    2887\n",
       "Other     2686\n",
       "Name: count, dtype: int64"
      ]
     },
     "execution_count": 54,
     "metadata": {},
     "output_type": "execute_result"
    }
   ],
   "source": [
    "# 4. Customer Demographics\n",
    "customer_ticket['Customer Gender'].value_counts()\n"
   ]
  },
  {
   "cell_type": "code",
   "execution_count": 55,
   "id": "62fc6522",
   "metadata": {},
   "outputs": [
    {
     "data": {
      "text/plain": [
       "<bound method NDFrame.describe of 0       32\n",
       "1       42\n",
       "2       48\n",
       "3       27\n",
       "4       67\n",
       "        ..\n",
       "8464    22\n",
       "8465    27\n",
       "8466    57\n",
       "8467    54\n",
       "8468    53\n",
       "Name: Customer Age, Length: 8469, dtype: int64>"
      ]
     },
     "execution_count": 55,
     "metadata": {},
     "output_type": "execute_result"
    }
   ],
   "source": [
    "customer_ticket['Customer Age'].describe"
   ]
  },
  {
   "cell_type": "code",
   "execution_count": 57,
   "id": "4d21c115",
   "metadata": {},
   "outputs": [
    {
     "data": {
      "text/plain": [
       "Product Purchased\n",
       "Canon EOS              240\n",
       "GoPro Hero             228\n",
       "Nest Thermostat        225\n",
       "Philips Hue Lights     221\n",
       "Amazon Echo            221\n",
       "LG Smart TV            219\n",
       "Sony Xperia            217\n",
       "Roomba Robot Vacuum    216\n",
       "Apple AirPods          213\n",
       "LG OLED                213\n",
       "Name: count, dtype: int64"
      ]
     },
     "execution_count": 57,
     "metadata": {},
     "output_type": "execute_result"
    }
   ],
   "source": [
    "# 5. Product Popularity\n",
    "customer_ticket['Product Purchased'].value_counts().head(10)"
   ]
  },
  {
   "cell_type": "markdown",
   "id": "3eaebbe2",
   "metadata": {},
   "source": [
    "### Time-Based Analysis"
   ]
  },
  {
   "cell_type": "code",
   "execution_count": 59,
   "id": "0270034a",
   "metadata": {},
   "outputs": [
    {
     "data": {
      "text/plain": [
       "Monthname\n",
       "January      736\n",
       "October      735\n",
       "July         727\n",
       "April        718\n",
       "February     715\n",
       "November     704\n",
       "May          701\n",
       "September    696\n",
       "December     696\n",
       "August       691\n",
       "June         678\n",
       "March        672\n",
       "Name: count, dtype: int64"
      ]
     },
     "execution_count": 59,
     "metadata": {},
     "output_type": "execute_result"
    }
   ],
   "source": [
    "# 1. Tickets by Month\n",
    "customer_ticket['Monthname'].value_counts()"
   ]
  },
  {
   "cell_type": "code",
   "execution_count": 61,
   "id": "c1788cca",
   "metadata": {},
   "outputs": [
    {
     "data": {
      "text/plain": [
       "DayofWeek\n",
       "1    1263\n",
       "3    1246\n",
       "6    1198\n",
       "5    1196\n",
       "2    1196\n",
       "0    1188\n",
       "4    1182\n",
       "Name: count, dtype: int64"
      ]
     },
     "execution_count": 61,
     "metadata": {},
     "output_type": "execute_result"
    }
   ],
   "source": [
    "# 2. Tickets by Day of Week\n",
    "customer_ticket['DayofWeek'].value_counts()"
   ]
  },
  {
   "cell_type": "markdown",
   "id": "9623080c",
   "metadata": {},
   "source": [
    "### Bivariate Analysis"
   ]
  },
  {
   "cell_type": "code",
   "execution_count": 64,
   "id": "93972642",
   "metadata": {},
   "outputs": [
    {
     "data": {
      "text/html": [
       "<div>\n",
       "<style scoped>\n",
       "    .dataframe tbody tr th:only-of-type {\n",
       "        vertical-align: middle;\n",
       "    }\n",
       "\n",
       "    .dataframe tbody tr th {\n",
       "        vertical-align: top;\n",
       "    }\n",
       "\n",
       "    .dataframe thead th {\n",
       "        text-align: right;\n",
       "    }\n",
       "</style>\n",
       "<table border=\"1\" class=\"dataframe\">\n",
       "  <thead>\n",
       "    <tr style=\"text-align: right;\">\n",
       "      <th>Ticket Status</th>\n",
       "      <th>Closed</th>\n",
       "      <th>Open</th>\n",
       "      <th>Pending Customer Response</th>\n",
       "    </tr>\n",
       "    <tr>\n",
       "      <th>Ticket Channel</th>\n",
       "      <th></th>\n",
       "      <th></th>\n",
       "      <th></th>\n",
       "    </tr>\n",
       "  </thead>\n",
       "  <tbody>\n",
       "    <tr>\n",
       "      <th>Chat</th>\n",
       "      <td>674</td>\n",
       "      <td>685</td>\n",
       "      <td>714</td>\n",
       "    </tr>\n",
       "    <tr>\n",
       "      <th>Email</th>\n",
       "      <td>720</td>\n",
       "      <td>701</td>\n",
       "      <td>722</td>\n",
       "    </tr>\n",
       "    <tr>\n",
       "      <th>Phone</th>\n",
       "      <td>691</td>\n",
       "      <td>736</td>\n",
       "      <td>705</td>\n",
       "    </tr>\n",
       "    <tr>\n",
       "      <th>Social media</th>\n",
       "      <td>684</td>\n",
       "      <td>697</td>\n",
       "      <td>740</td>\n",
       "    </tr>\n",
       "  </tbody>\n",
       "</table>\n",
       "</div>"
      ],
      "text/plain": [
       "Ticket Status   Closed  Open  Pending Customer Response\n",
       "Ticket Channel                                         \n",
       "Chat               674   685                        714\n",
       "Email              720   701                        722\n",
       "Phone              691   736                        705\n",
       "Social media       684   697                        740"
      ]
     },
     "execution_count": 64,
     "metadata": {},
     "output_type": "execute_result"
    }
   ],
   "source": [
    "# 1. Ticket Status by Channel\n",
    "pd.crosstab(customer_ticket['Ticket Channel'], customer_ticket['Ticket Status'])"
   ]
  },
  {
   "cell_type": "markdown",
   "id": "7f6619ce",
   "metadata": {},
   "source": [
    "### Visualization"
   ]
  },
  {
   "cell_type": "code",
   "execution_count": 69,
   "id": "1f672d2c",
   "metadata": {},
   "outputs": [],
   "source": [
    "import matplotlib.pyplot as plt\n",
    "import seaborn as sns\n",
    "\n"
   ]
  },
  {
   "cell_type": "code",
   "execution_count": 70,
   "id": "79e05f7e",
   "metadata": {},
   "outputs": [
    {
     "data": {
      "image/png": "[encoded data removed]",
      "text/plain": [
       "<Figure size 640x480 with 1 Axes>"
      ]
     },
     "metadata": {},
     "output_type": "display_data"
    }
   ],
   "source": [
    "sns.countplot(data=customer_ticket, x= 'Ticket Status')\n",
    "plt.title('Ticket Status Distribution')\n",
    "plt.show()"
   ]
  },
  {
   "cell_type": "code",
   "execution_count": 75,
   "id": "a5fbcac3",
   "metadata": {},
   "outputs": [
    {
     "data": {
      "image/png": "[encoded data removed]",
      "text/plain": [
       "<Figure size 640x480 with 1 Axes>"
      ]
     },
     "metadata": {},
     "output_type": "display_data"
    }
   ],
   "source": [
    "#2. Ticket by month distribution\n",
    "sns.countplot(data=customer_ticket, x='Month', order=customer_ticket['Month'].value_counts().index)\n",
    "plt.title('Tickets by Month')\n",
    "plt.show()"
   ]
  },
  {
   "cell_type": "code",
   "execution_count": 79,
   "id": "04036bdb",
   "metadata": {},
   "outputs": [
    {
     "data": {
      "image/png": "[encoded data removed]",
      "text/plain": [
       "<Figure size 640x480 with 1 Axes>"
      ]
     },
     "metadata": {},
     "output_type": "display_data"
    }
   ],
   "source": [
    "# # Ticket Channel Distribution\n",
    "sns.countplot(data= customer_ticket, x = 'Ticket Channel', order = customer_ticket['Ticket Channel'].value_counts().index)\n",
    "plt.title('Ticket Channel Distribution')\n",
    "plt.show()"
   ]
  },
  {
   "cell_type": "markdown",
   "id": "ae195840",
   "metadata": {},
   "source": [
    "### Observation"
   ]
  },
  {
   "cell_type": "markdown",
   "id": "cb106558",
   "metadata": {},
   "source": [
    "#### Most Tickets come in January via Email. Again, more tickets are pending, yet to be resolved or closed."
   ]
  },
  {
   "cell_type": "code",
   "execution_count": null,
   "id": "2a6b58ec",
   "metadata": {},
   "outputs": [],
   "source": []
  },
  {
   "cell_type": "markdown",
   "id": "c8ea7293",
   "metadata": {},
   "source": [
    "# 1. Customer Experience Analysis"
   ]
  },
  {
   "cell_type": "markdown",
   "id": "f46494ea",
   "metadata": {},
   "source": [
    "### a. What are the main pain points and recurring issues reported by customers?"
   ]
  },
  {
   "cell_type": "code",
   "execution_count": 82,
   "id": "47bb1b85",
   "metadata": {},
   "outputs": [
    {
     "name": "stdout",
     "output_type": "stream",
     "text": [
      "Ticket Type\n",
      "Refund request          1752\n",
      "Technical issue         1747\n",
      "Cancellation request    1695\n",
      "Product inquiry         1641\n",
      "Billing inquiry         1634\n",
      "Name: count, dtype: int64\n"
     ]
    }
   ],
   "source": [
    "# Top ticket types\n",
    "print(customer_ticket['Ticket Type'].value_counts())\n",
    "\n"
   ]
  },
  {
   "cell_type": "code",
   "execution_count": 83,
   "id": "efa8c65d",
   "metadata": {},
   "outputs": [
    {
     "name": "stdout",
     "output_type": "stream",
     "text": [
      "Ticket Subject\n",
      "Refund request           576\n",
      "Software bug             574\n",
      "Product compatibility    567\n",
      "Delivery problem         561\n",
      "Hardware issue           547\n",
      "Battery life             542\n",
      "Network problem          539\n",
      "Installation support     530\n",
      "Product setup            529\n",
      "Payment issue            526\n",
      "Name: count, dtype: int64\n"
     ]
    }
   ],
   "source": [
    "# Top ticket subjects\n",
    "print(customer_ticket['Ticket Subject'].value_counts().head(10))\n"
   ]
  },
  {
   "cell_type": "markdown",
   "id": "77e8cd4e",
   "metadata": {},
   "source": [
    "### b. Which products or services generate the most support tickets?"
   ]
  },
  {
   "cell_type": "code",
   "execution_count": 86,
   "id": "1c98e307",
   "metadata": {},
   "outputs": [
    {
     "name": "stdout",
     "output_type": "stream",
     "text": [
      "Product Purchased\n",
      "Canon EOS              240\n",
      "GoPro Hero             228\n",
      "Nest Thermostat        225\n",
      "Philips Hue Lights     221\n",
      "Amazon Echo            221\n",
      "LG Smart TV            219\n",
      "Sony Xperia            217\n",
      "Roomba Robot Vacuum    216\n",
      "Apple AirPods          213\n",
      "LG OLED                213\n",
      "Name: count, dtype: int64\n"
     ]
    }
   ],
   "source": [
    "print(customer_ticket['Product Purchased'].value_counts().head(10))\n"
   ]
  },
  {
   "cell_type": "markdown",
   "id": "27c5785f",
   "metadata": {},
   "source": [
    "### c. How do response and resolution times impact customer satisfaction?"
   ]
  },
  {
   "cell_type": "code",
   "execution_count": 88,
   "id": "0111892d",
   "metadata": {},
   "outputs": [
    {
     "data": {
      "text/html": [
       "<div>\n",
       "<style scoped>\n",
       "    .dataframe tbody tr th:only-of-type {\n",
       "        vertical-align: middle;\n",
       "    }\n",
       "\n",
       "    .dataframe tbody tr th {\n",
       "        vertical-align: top;\n",
       "    }\n",
       "\n",
       "    .dataframe thead th {\n",
       "        text-align: right;\n",
       "    }\n",
       "</style>\n",
       "<table border=\"1\" class=\"dataframe\">\n",
       "  <thead>\n",
       "    <tr style=\"text-align: right;\">\n",
       "      <th></th>\n",
       "      <th>Ticket ID</th>\n",
       "      <th>Customer Name</th>\n",
       "      <th>Customer Email</th>\n",
       "      <th>Customer Age</th>\n",
       "      <th>Customer Gender</th>\n",
       "      <th>Product Purchased</th>\n",
       "      <th>Date of Purchase</th>\n",
       "      <th>Ticket Type</th>\n",
       "      <th>Ticket Subject</th>\n",
       "      <th>Ticket Description</th>\n",
       "      <th>...</th>\n",
       "      <th>Ticket Priority</th>\n",
       "      <th>Ticket Channel</th>\n",
       "      <th>First Response Time</th>\n",
       "      <th>Time to Resolution</th>\n",
       "      <th>Customer Satisfaction Rating</th>\n",
       "      <th>Year</th>\n",
       "      <th>Month</th>\n",
       "      <th>Monthname</th>\n",
       "      <th>Day</th>\n",
       "      <th>DayofWeek</th>\n",
       "    </tr>\n",
       "  </thead>\n",
       "  <tbody>\n",
       "    <tr>\n",
       "      <th>0</th>\n",
       "      <td>1</td>\n",
       "      <td>Marisa Obrien</td>\n",
       "      <td>carrollallison@example.com</td>\n",
       "      <td>32</td>\n",
       "      <td>Other</td>\n",
       "      <td>GoPro Hero</td>\n",
       "      <td>2021-03-22</td>\n",
       "      <td>Technical issue</td>\n",
       "      <td>Product setup</td>\n",
       "      <td>I'm having an issue with the {product_purchase...</td>\n",
       "      <td>...</td>\n",
       "      <td>Critical</td>\n",
       "      <td>Social media</td>\n",
       "      <td>6/1/2023 12:15</td>\n",
       "      <td>NaN</td>\n",
       "      <td>NaN</td>\n",
       "      <td>2021</td>\n",
       "      <td>3</td>\n",
       "      <td>March</td>\n",
       "      <td>22</td>\n",
       "      <td>0</td>\n",
       "    </tr>\n",
       "    <tr>\n",
       "      <th>1</th>\n",
       "      <td>2</td>\n",
       "      <td>Jessica Rios</td>\n",
       "      <td>clarkeashley@example.com</td>\n",
       "      <td>42</td>\n",
       "      <td>Female</td>\n",
       "      <td>LG Smart TV</td>\n",
       "      <td>2021-05-22</td>\n",
       "      <td>Technical issue</td>\n",
       "      <td>Peripheral compatibility</td>\n",
       "      <td>I'm having an issue with the {product_purchase...</td>\n",
       "      <td>...</td>\n",
       "      <td>Critical</td>\n",
       "      <td>Chat</td>\n",
       "      <td>6/1/2023 16:45</td>\n",
       "      <td>NaN</td>\n",
       "      <td>NaN</td>\n",
       "      <td>2021</td>\n",
       "      <td>5</td>\n",
       "      <td>May</td>\n",
       "      <td>22</td>\n",
       "      <td>5</td>\n",
       "    </tr>\n",
       "  </tbody>\n",
       "</table>\n",
       "<p>2 rows × 22 columns</p>\n",
       "</div>"
      ],
      "text/plain": [
       "   Ticket ID  Customer Name              Customer Email  Customer Age  \\\n",
       "0          1  Marisa Obrien  carrollallison@example.com            32   \n",
       "1          2   Jessica Rios    clarkeashley@example.com            42   \n",
       "\n",
       "  Customer Gender Product Purchased Date of Purchase      Ticket Type  \\\n",
       "0           Other        GoPro Hero       2021-03-22  Technical issue   \n",
       "1          Female       LG Smart TV       2021-05-22  Technical issue   \n",
       "\n",
       "             Ticket Subject  \\\n",
       "0             Product setup   \n",
       "1  Peripheral compatibility   \n",
       "\n",
       "                                  Ticket Description  ... Ticket Priority  \\\n",
       "0  I'm having an issue with the {product_purchase...  ...        Critical   \n",
       "1  I'm having an issue with the {product_purchase...  ...        Critical   \n",
       "\n",
       "  Ticket Channel First Response Time Time to Resolution  \\\n",
       "0   Social media      6/1/2023 12:15                NaN   \n",
       "1           Chat      6/1/2023 16:45                NaN   \n",
       "\n",
       "  Customer Satisfaction Rating  Year  Month  Monthname  Day DayofWeek  \n",
       "0                          NaN  2021      3      March   22         0  \n",
       "1                          NaN  2021      5        May   22         5  \n",
       "\n",
       "[2 rows x 22 columns]"
      ]
     },
     "execution_count": 88,
     "metadata": {},
     "output_type": "execute_result"
    }
   ],
   "source": [
    "customer_ticket.head(2)"
   ]
  },
  {
   "cell_type": "code",
   "execution_count": 98,
   "id": "05636405",
   "metadata": {},
   "outputs": [
    {
     "data": {
      "text/plain": [
       "Ticket ID                                int64\n",
       "Customer Name                           object\n",
       "Customer Email                          object\n",
       "Customer Age                             int64\n",
       "Customer Gender                         object\n",
       "Product Purchased                       object\n",
       "Date of Purchase                datetime64[ns]\n",
       "Ticket Type                             object\n",
       "Ticket Subject                          object\n",
       "Ticket Description                      object\n",
       "Ticket Status                           object\n",
       "Resolution                              object\n",
       "Ticket Priority                         object\n",
       "Ticket Channel                          object\n",
       "First Response Time                     object\n",
       "Time to Resolution                      object\n",
       "Customer Satisfaction Rating           float64\n",
       "Year                                     int32\n",
       "Month                                    int32\n",
       "Monthname                               object\n",
       "Day                                      int32\n",
       "DayofWeek                                int32\n",
       "dtype: object"
      ]
     },
     "execution_count": 98,
     "metadata": {},
     "output_type": "execute_result"
    }
   ],
   "source": [
    "closed.dtypes"
   ]
  },
  {
   "cell_type": "code",
   "execution_count": 99,
   "id": "bac8b061",
   "metadata": {},
   "outputs": [],
   "source": [
    "import pandas as pd\n",
    "\n",
    "# Convert to datetime, handling missing values\n",
    "customer_ticket['First Response Time'] = pd.to_datetime(customer_ticket['First Response Time'], errors='coerce')\n",
    "customer_ticket['Time to Resolution'] = pd.to_datetime(customer_ticket['Time to Resolution'], errors='coerce')\n"
   ]
  },
  {
   "cell_type": "code",
   "execution_count": 100,
   "id": "d46b5140",
   "metadata": {},
   "outputs": [
    {
     "name": "stdout",
     "output_type": "stream",
     "text": [
      "                              First Response Time  Time to Resolution  \\\n",
      "First Response Time                      1.000000            0.056236   \n",
      "Time to Resolution                       0.056236            1.000000   \n",
      "Customer Satisfaction Rating            -0.037189           -0.010084   \n",
      "\n",
      "                              Customer Satisfaction Rating  \n",
      "First Response Time                              -0.037189  \n",
      "Time to Resolution                               -0.010084  \n",
      "Customer Satisfaction Rating                      1.000000  \n"
     ]
    }
   ],
   "source": [
    "closed = customer_ticket[customer_ticket['Ticket Status']== \"Closed\"]\n",
    "print(closed[['First Response Time', 'Time to Resolution', 'Customer Satisfaction Rating']].corr())"
   ]
  },
  {
   "cell_type": "markdown",
   "id": "dccc3296",
   "metadata": {},
   "source": [
    "Customer satisfaction in this dataset is not strongly driven by how quickly support responds or resolves tickets."
   ]
  },
  {
   "cell_type": "markdown",
   "id": "0a8bc566",
   "metadata": {},
   "source": [
    "# 2. Operational Efficiency"
   ]
  },
  {
   "cell_type": "markdown",
   "id": "56f8455c",
   "metadata": {},
   "source": [
    "### a. Which ticket channels are most used?"
   ]
  },
  {
   "cell_type": "code",
   "execution_count": 101,
   "id": "5cd89105",
   "metadata": {},
   "outputs": [
    {
     "data": {
      "text/plain": [
       "Ticket Channel\n",
       "Email           2143\n",
       "Phone           2132\n",
       "Social media    2121\n",
       "Chat            2073\n",
       "Name: count, dtype: int64"
      ]
     },
     "execution_count": 101,
     "metadata": {},
     "output_type": "execute_result"
    }
   ],
   "source": [
    "customer_ticket['Ticket Channel'].value_counts()"
   ]
  },
  {
   "cell_type": "markdown",
   "id": "99a0c3ee",
   "metadata": {},
   "source": [
    "Email is the most used ticket channel"
   ]
  },
  {
   "cell_type": "markdown",
   "id": "c4cd31b2",
   "metadata": {},
   "source": [
    "### b. Are there bottlenecks in the support process?\n"
   ]
  },
  {
   "cell_type": "markdown",
   "id": "c793c78e",
   "metadata": {},
   "source": [
    "A bottleneck in support means certain channels, priorities, or types of tickets are experiencing significantly slower response or resolution times compared to others."
   ]
  },
  {
   "cell_type": "code",
   "execution_count": 110,
   "id": "516f5822",
   "metadata": {},
   "outputs": [
    {
     "data": {
      "text/plain": [
       "0       19236.250000\n",
       "1       17776.750000\n",
       "2       25259.233333\n",
       "3       22327.483333\n",
       "4       29112.200000\n",
       "            ...     \n",
       "8464             NaN\n",
       "8465             NaN\n",
       "8466    15681.733333\n",
       "8467    14250.466667\n",
       "8468             NaN\n",
       "Name: First Response Delay (hrs), Length: 8469, dtype: float64"
      ]
     },
     "execution_count": 110,
     "metadata": {},
     "output_type": "execute_result"
    }
   ],
   "source": [
    "# Calculate delays (in hours)\n",
    "#  Calculate Timedelta\n",
    "customer_ticket['First Response Delay'] = customer_ticket['First Response Time'] - customer_ticket['Date of Purchase']\n",
    "\n",
    "customer_ticket['First Response Delay (hrs)'] = customer_ticket['First Response Delay'].dt.total_seconds()/3600\n",
    "\n",
    "customer_ticket['First Response Delay (hrs)']"
   ]
  },
  {
   "cell_type": "code",
   "execution_count": 112,
   "id": "a8d782d0",
   "metadata": {},
   "outputs": [
    {
     "data": {
      "text/plain": [
       "0                NaN\n",
       "1                NaN\n",
       "2       25266.083333\n",
       "3       22321.950000\n",
       "4       29131.883333\n",
       "            ...     \n",
       "8464             NaN\n",
       "8465             NaN\n",
       "8466    15676.516667\n",
       "8467    14237.533333\n",
       "8468             NaN\n",
       "Name: Resolution Delay (hrs), Length: 8469, dtype: float64"
      ]
     },
     "execution_count": 112,
     "metadata": {},
     "output_type": "execute_result"
    }
   ],
   "source": [
    "# Calculate resolution delay\n",
    "customer_ticket['Resolution Delay'] = customer_ticket['Time to Resolution'] - customer_ticket['Date of Purchase']\n",
    "customer_ticket['Resolution Delay (hrs)'] = customer_ticket['Resolution Delay'].dt.total_seconds()/3600\n",
    "customer_ticket['Resolution Delay (hrs)']"
   ]
  },
  {
   "cell_type": "code",
   "execution_count": 124,
   "id": "5a1a2f2b",
   "metadata": {},
   "outputs": [
    {
     "name": "stdout",
     "output_type": "stream",
     "text": [
      "Ticket Channel\n",
      "Chat            21344.023631\n",
      "Email           21188.641100\n",
      "Phone           21348.850096\n",
      "Social media    21055.905887\n",
      "Name: First Response Delay (hrs), dtype: float64\n"
     ]
    }
   ],
   "source": [
    "# Bottleneck by channel\n",
    "first_response_by_channel = customer_ticket.groupby('Ticket Channel')['First Response Delay (hrs)'].mean()\n",
    "print(first_response_by_channel)\n",
    "\n"
   ]
  },
  {
   "cell_type": "code",
   "execution_count": 127,
   "id": "7b397c76",
   "metadata": {},
   "outputs": [
    {
     "data": {
      "text/plain": [
       "Ticket Channel\n",
       "Chat            21245.929723\n",
       "Email           21426.768102\n",
       "Phone           21353.168548\n",
       "Social media    20900.374342\n",
       "Name: Resolution Delay (hrs), dtype: float64"
      ]
     },
     "execution_count": 127,
     "metadata": {},
     "output_type": "execute_result"
    }
   ],
   "source": [
    "# Bottleneck by channel: resolution delay\n",
    "resolution_delay_channel = customer_ticket.groupby('Ticket Channel')['Resolution Delay (hrs)'].mean()\n",
    "resolution_delay_channel"
   ]
  },
  {
   "cell_type": "markdown",
   "id": "eec1423d",
   "metadata": {},
   "source": [
    "Since our dataset does not include the actual ticket creation time, all delay calculations are based on the time from product purchase to support response or resolution. This reflects customer behavior (how long after purchase they seek help), not the support team's speed.\n",
    "\n",
    "Among all channels, customers who use Social Media tend to contact support and receive resolutions sooner after purchase compared to other channels. However, these figures do not reflect internal support process efficiency."
   ]
  },
  {
   "cell_type": "markdown",
   "id": "f0d15bbe",
   "metadata": {},
   "source": [
    "### c. What is the distribution of ticket priorities and how are they handled?\n"
   ]
  },
  {
   "cell_type": "code",
   "execution_count": 129,
   "id": "01c55760",
   "metadata": {},
   "outputs": [
    {
     "data": {
      "text/html": [
       "<div>\n",
       "<style scoped>\n",
       "    .dataframe tbody tr th:only-of-type {\n",
       "        vertical-align: middle;\n",
       "    }\n",
       "\n",
       "    .dataframe tbody tr th {\n",
       "        vertical-align: top;\n",
       "    }\n",
       "\n",
       "    .dataframe thead th {\n",
       "        text-align: right;\n",
       "    }\n",
       "</style>\n",
       "<table border=\"1\" class=\"dataframe\">\n",
       "  <thead>\n",
       "    <tr style=\"text-align: right;\">\n",
       "      <th>Ticket Status</th>\n",
       "      <th>Closed</th>\n",
       "      <th>Open</th>\n",
       "      <th>Pending Customer Response</th>\n",
       "    </tr>\n",
       "    <tr>\n",
       "      <th>Ticket Priority</th>\n",
       "      <th></th>\n",
       "      <th></th>\n",
       "      <th></th>\n",
       "    </tr>\n",
       "  </thead>\n",
       "  <tbody>\n",
       "    <tr>\n",
       "      <th>Critical</th>\n",
       "      <td>726</td>\n",
       "      <td>692</td>\n",
       "      <td>711</td>\n",
       "    </tr>\n",
       "    <tr>\n",
       "      <th>High</th>\n",
       "      <td>705</td>\n",
       "      <td>704</td>\n",
       "      <td>676</td>\n",
       "    </tr>\n",
       "    <tr>\n",
       "      <th>Low</th>\n",
       "      <td>644</td>\n",
       "      <td>696</td>\n",
       "      <td>723</td>\n",
       "    </tr>\n",
       "    <tr>\n",
       "      <th>Medium</th>\n",
       "      <td>694</td>\n",
       "      <td>727</td>\n",
       "      <td>771</td>\n",
       "    </tr>\n",
       "  </tbody>\n",
       "</table>\n",
       "</div>"
      ],
      "text/plain": [
       "Ticket Status    Closed  Open  Pending Customer Response\n",
       "Ticket Priority                                         \n",
       "Critical            726   692                        711\n",
       "High                705   704                        676\n",
       "Low                 644   696                        723\n",
       "Medium              694   727                        771"
      ]
     },
     "execution_count": 129,
     "metadata": {},
     "output_type": "execute_result"
    }
   ],
   "source": [
    "pd.crosstab(customer_ticket['Ticket Priority'], customer_ticket['Ticket Status'])"
   ]
  },
  {
   "cell_type": "markdown",
   "id": "d4261a51",
   "metadata": {},
   "source": [
    "#### Interpretaion\n",
    "Analysis of ticket status by priority shows that the resolution rates are similar across all priority levels. Critical tickets are not being closed at a higher rate than others, which suggests that the current process does not prioritize urgent issues for faster handling. This could impact customer satisfaction and business outcomes. \n",
    "\n",
    "#### Recommendation\n",
    "We recommend reviewing the ticket triage process to ensure that critical and high-priority tickets are resolved more quickly."
   ]
  },
  {
   "cell_type": "markdown",
   "id": "384de118",
   "metadata": {},
   "source": [
    "# 3. Customer Segmentation"
   ]
  },
  {
   "cell_type": "markdown",
   "id": "5af4835a",
   "metadata": {},
   "source": [
    "### a. How do customer demographics (age, gender) relate to types of issues or satisfaction ratings?"
   ]
  },
  {
   "cell_type": "markdown",
   "id": "5e7c0cc0",
   "metadata": {},
   "source": [
    "#### i. Satistfaction by Gender"
   ]
  },
  {
   "cell_type": "code",
   "execution_count": 133,
   "id": "42e7680d",
   "metadata": {},
   "outputs": [
    {
     "data": {
      "text/plain": [
       "Customer Gender\n",
       "Female    2.971545\n",
       "Male      3.028384\n",
       "Other     2.974684\n",
       "Name: Customer Satisfaction Rating, dtype: float64"
      ]
     },
     "execution_count": 133,
     "metadata": {},
     "output_type": "execute_result"
    }
   ],
   "source": [
    "# convert satisfaction rating to numeric\n",
    "customer_ticket['Customer Satisfaction Rating'] = pd.to_numeric(customer_ticket['Customer Satisfaction Rating'])\n",
    "\n",
    "# find the avearge satisfaction by gender\n",
    "satisfaction_rating_gender = customer_ticket.groupby('Customer Gender')['Customer Satisfaction Rating'].mean()\n",
    "satisfaction_rating_gender"
   ]
  },
  {
   "cell_type": "markdown",
   "id": "763aa179",
   "metadata": {},
   "source": [
    "Males give relatively higher rating"
   ]
  },
  {
   "cell_type": "markdown",
   "id": "d02c1a16",
   "metadata": {},
   "source": [
    "#### ii. Satisfaction by Age"
   ]
  },
  {
   "cell_type": "code",
   "execution_count": 136,
   "id": "0d23f958",
   "metadata": {},
   "outputs": [
    {
     "data": {
      "text/plain": [
       "Customer Age\n",
       "34    3.430769\n",
       "50    3.352941\n",
       "32    3.348837\n",
       "27    3.301587\n",
       "38    3.290909\n",
       "44    3.246154\n",
       "51    3.237288\n",
       "49    3.218182\n",
       "60    3.200000\n",
       "20    3.163636\n",
       "Name: Customer Satisfaction Rating, dtype: float64"
      ]
     },
     "execution_count": 136,
     "metadata": {},
     "output_type": "execute_result"
    }
   ],
   "source": [
    "# find the avearge satisfaction by age\n",
    "satisfaction_rating_age = customer_ticket.groupby('Customer Age')['Customer Satisfaction Rating'].mean()\n",
    "satisfaction_rating_age = satisfaction_rating_age.sort_values(ascending = False)\n",
    "satisfaction_rating_age.head(10)"
   ]
  },
  {
   "cell_type": "markdown",
   "id": "80f96d9b",
   "metadata": {},
   "source": [
    "There is no trend in the age and rating"
   ]
  },
  {
   "cell_type": "markdown",
   "id": "9ddb442b",
   "metadata": {},
   "source": [
    "#### iii. Types of issues by gender"
   ]
  },
  {
   "cell_type": "code",
   "execution_count": 139,
   "id": "2c87a8f3",
   "metadata": {},
   "outputs": [
    {
     "name": "stdout",
     "output_type": "stream",
     "text": [
      "Ticket Type      Billing inquiry  Cancellation request  Product inquiry  \\\n",
      "Customer Gender                                                           \n",
      "Female                       561                   557              554   \n",
      "Male                         560                   591              558   \n",
      "Other                        513                   547              529   \n",
      "\n",
      "Ticket Type      Refund request  Technical issue  \n",
      "Customer Gender                                   \n",
      "Female                      617              598  \n",
      "Male                        612              575  \n",
      "Other                       523              574  \n"
     ]
    }
   ],
   "source": [
    "issue_type_by_gender = customer_ticket.groupby(['Customer Gender', 'Ticket Type']).size().unstack(fill_value=0)\n",
    "print(issue_type_by_gender)\n"
   ]
  },
  {
   "cell_type": "markdown",
   "id": "79adc555",
   "metadata": {},
   "source": [
    " The numbers are in close range. Meaning, gender does not affect the the ticket type"
   ]
  },
  {
   "cell_type": "markdown",
   "id": "b62b07c2",
   "metadata": {},
   "source": [
    "# 4. Product Insights"
   ]
  },
  {
   "cell_type": "markdown",
   "id": "1aa23991",
   "metadata": {},
   "source": [
    "### Which products are most associated with technical, billing, or refund issues?"
   ]
  },
  {
   "cell_type": "code",
   "execution_count": 152,
   "id": "1ebc0a28",
   "metadata": {},
   "outputs": [
    {
     "data": {
      "text/html": [
       "<div>\n",
       "<style scoped>\n",
       "    .dataframe tbody tr th:only-of-type {\n",
       "        vertical-align: middle;\n",
       "    }\n",
       "\n",
       "    .dataframe tbody tr th {\n",
       "        vertical-align: top;\n",
       "    }\n",
       "\n",
       "    .dataframe thead th {\n",
       "        text-align: right;\n",
       "    }\n",
       "</style>\n",
       "<table border=\"1\" class=\"dataframe\">\n",
       "  <thead>\n",
       "    <tr style=\"text-align: right;\">\n",
       "      <th>Ticket Type</th>\n",
       "      <th>Billing inquiry</th>\n",
       "      <th>Cancellation request</th>\n",
       "      <th>Product inquiry</th>\n",
       "      <th>Refund request</th>\n",
       "      <th>Technical issue</th>\n",
       "    </tr>\n",
       "    <tr>\n",
       "      <th>Product Purchased</th>\n",
       "      <th></th>\n",
       "      <th></th>\n",
       "      <th></th>\n",
       "      <th></th>\n",
       "      <th></th>\n",
       "    </tr>\n",
       "  </thead>\n",
       "  <tbody>\n",
       "    <tr>\n",
       "      <th>GoPro Hero</th>\n",
       "      <td>38</td>\n",
       "      <td>42</td>\n",
       "      <td>41</td>\n",
       "      <td>50</td>\n",
       "      <td>57</td>\n",
       "    </tr>\n",
       "    <tr>\n",
       "      <th>Amazon Echo</th>\n",
       "      <td>43</td>\n",
       "      <td>40</td>\n",
       "      <td>39</td>\n",
       "      <td>51</td>\n",
       "      <td>48</td>\n",
       "    </tr>\n",
       "    <tr>\n",
       "      <th>Garmin Forerunner</th>\n",
       "      <td>45</td>\n",
       "      <td>36</td>\n",
       "      <td>36</td>\n",
       "      <td>43</td>\n",
       "      <td>48</td>\n",
       "    </tr>\n",
       "    <tr>\n",
       "      <th>Canon EOS</th>\n",
       "      <td>46</td>\n",
       "      <td>44</td>\n",
       "      <td>52</td>\n",
       "      <td>50</td>\n",
       "      <td>48</td>\n",
       "    </tr>\n",
       "    <tr>\n",
       "      <th>LG Washing Machine</th>\n",
       "      <td>37</td>\n",
       "      <td>40</td>\n",
       "      <td>42</td>\n",
       "      <td>43</td>\n",
       "      <td>46</td>\n",
       "    </tr>\n",
       "    <tr>\n",
       "      <th>Amazon Kindle</th>\n",
       "      <td>36</td>\n",
       "      <td>37</td>\n",
       "      <td>35</td>\n",
       "      <td>44</td>\n",
       "      <td>46</td>\n",
       "    </tr>\n",
       "    <tr>\n",
       "      <th>Apple AirPods</th>\n",
       "      <td>55</td>\n",
       "      <td>39</td>\n",
       "      <td>40</td>\n",
       "      <td>33</td>\n",
       "      <td>46</td>\n",
       "    </tr>\n",
       "    <tr>\n",
       "      <th>Nest Thermostat</th>\n",
       "      <td>38</td>\n",
       "      <td>43</td>\n",
       "      <td>50</td>\n",
       "      <td>49</td>\n",
       "      <td>45</td>\n",
       "    </tr>\n",
       "    <tr>\n",
       "      <th>Philips Hue Lights</th>\n",
       "      <td>45</td>\n",
       "      <td>49</td>\n",
       "      <td>41</td>\n",
       "      <td>41</td>\n",
       "      <td>45</td>\n",
       "    </tr>\n",
       "    <tr>\n",
       "      <th>Lenovo ThinkPad</th>\n",
       "      <td>29</td>\n",
       "      <td>37</td>\n",
       "      <td>35</td>\n",
       "      <td>38</td>\n",
       "      <td>44</td>\n",
       "    </tr>\n",
       "    <tr>\n",
       "      <th>Nikon D</th>\n",
       "      <td>37</td>\n",
       "      <td>35</td>\n",
       "      <td>37</td>\n",
       "      <td>51</td>\n",
       "      <td>44</td>\n",
       "    </tr>\n",
       "    <tr>\n",
       "      <th>Dyson Vacuum Cleaner</th>\n",
       "      <td>35</td>\n",
       "      <td>39</td>\n",
       "      <td>47</td>\n",
       "      <td>33</td>\n",
       "      <td>44</td>\n",
       "    </tr>\n",
       "    <tr>\n",
       "      <th>PlayStation</th>\n",
       "      <td>46</td>\n",
       "      <td>35</td>\n",
       "      <td>42</td>\n",
       "      <td>25</td>\n",
       "      <td>44</td>\n",
       "    </tr>\n",
       "    <tr>\n",
       "      <th>Roomba Robot Vacuum</th>\n",
       "      <td>45</td>\n",
       "      <td>35</td>\n",
       "      <td>44</td>\n",
       "      <td>48</td>\n",
       "      <td>44</td>\n",
       "    </tr>\n",
       "    <tr>\n",
       "      <th>Fitbit Charge</th>\n",
       "      <td>32</td>\n",
       "      <td>41</td>\n",
       "      <td>40</td>\n",
       "      <td>46</td>\n",
       "      <td>43</td>\n",
       "    </tr>\n",
       "    <tr>\n",
       "      <th>Nintendo Switch Pro Controller</th>\n",
       "      <td>32</td>\n",
       "      <td>42</td>\n",
       "      <td>46</td>\n",
       "      <td>40</td>\n",
       "      <td>43</td>\n",
       "    </tr>\n",
       "    <tr>\n",
       "      <th>HP Pavilion</th>\n",
       "      <td>37</td>\n",
       "      <td>42</td>\n",
       "      <td>36</td>\n",
       "      <td>42</td>\n",
       "      <td>43</td>\n",
       "    </tr>\n",
       "    <tr>\n",
       "      <th>iPhone</th>\n",
       "      <td>51</td>\n",
       "      <td>45</td>\n",
       "      <td>31</td>\n",
       "      <td>42</td>\n",
       "      <td>43</td>\n",
       "    </tr>\n",
       "    <tr>\n",
       "      <th>Samsung Galaxy</th>\n",
       "      <td>39</td>\n",
       "      <td>26</td>\n",
       "      <td>41</td>\n",
       "      <td>46</td>\n",
       "      <td>42</td>\n",
       "    </tr>\n",
       "    <tr>\n",
       "      <th>Microsoft Xbox Controller</th>\n",
       "      <td>38</td>\n",
       "      <td>53</td>\n",
       "      <td>31</td>\n",
       "      <td>32</td>\n",
       "      <td>42</td>\n",
       "    </tr>\n",
       "    <tr>\n",
       "      <th>Microsoft Office</th>\n",
       "      <td>39</td>\n",
       "      <td>41</td>\n",
       "      <td>38</td>\n",
       "      <td>40</td>\n",
       "      <td>42</td>\n",
       "    </tr>\n",
       "    <tr>\n",
       "      <th>Sony 4K HDR TV</th>\n",
       "      <td>45</td>\n",
       "      <td>34</td>\n",
       "      <td>45</td>\n",
       "      <td>44</td>\n",
       "      <td>42</td>\n",
       "    </tr>\n",
       "    <tr>\n",
       "      <th>LG Smart TV</th>\n",
       "      <td>37</td>\n",
       "      <td>53</td>\n",
       "      <td>49</td>\n",
       "      <td>38</td>\n",
       "      <td>42</td>\n",
       "    </tr>\n",
       "    <tr>\n",
       "      <th>Xbox</th>\n",
       "      <td>32</td>\n",
       "      <td>40</td>\n",
       "      <td>40</td>\n",
       "      <td>34</td>\n",
       "      <td>41</td>\n",
       "    </tr>\n",
       "    <tr>\n",
       "      <th>Microsoft Surface</th>\n",
       "      <td>29</td>\n",
       "      <td>38</td>\n",
       "      <td>37</td>\n",
       "      <td>45</td>\n",
       "      <td>41</td>\n",
       "    </tr>\n",
       "    <tr>\n",
       "      <th>GoPro Action Camera</th>\n",
       "      <td>30</td>\n",
       "      <td>40</td>\n",
       "      <td>33</td>\n",
       "      <td>39</td>\n",
       "      <td>41</td>\n",
       "    </tr>\n",
       "    <tr>\n",
       "      <th>Bose QuietComfort</th>\n",
       "      <td>49</td>\n",
       "      <td>27</td>\n",
       "      <td>37</td>\n",
       "      <td>37</td>\n",
       "      <td>40</td>\n",
       "    </tr>\n",
       "    <tr>\n",
       "      <th>Sony Xperia</th>\n",
       "      <td>45</td>\n",
       "      <td>48</td>\n",
       "      <td>32</td>\n",
       "      <td>52</td>\n",
       "      <td>40</td>\n",
       "    </tr>\n",
       "    <tr>\n",
       "      <th>Asus ROG</th>\n",
       "      <td>31</td>\n",
       "      <td>45</td>\n",
       "      <td>40</td>\n",
       "      <td>31</td>\n",
       "      <td>40</td>\n",
       "    </tr>\n",
       "    <tr>\n",
       "      <th>Canon DSLR Camera</th>\n",
       "      <td>41</td>\n",
       "      <td>41</td>\n",
       "      <td>35</td>\n",
       "      <td>50</td>\n",
       "      <td>39</td>\n",
       "    </tr>\n",
       "    <tr>\n",
       "      <th>Fitbit Versa Smartwatch</th>\n",
       "      <td>33</td>\n",
       "      <td>40</td>\n",
       "      <td>37</td>\n",
       "      <td>42</td>\n",
       "      <td>39</td>\n",
       "    </tr>\n",
       "    <tr>\n",
       "      <th>Autodesk AutoCAD</th>\n",
       "      <td>35</td>\n",
       "      <td>37</td>\n",
       "      <td>46</td>\n",
       "      <td>39</td>\n",
       "      <td>39</td>\n",
       "    </tr>\n",
       "    <tr>\n",
       "      <th>Bose SoundLink Speaker</th>\n",
       "      <td>37</td>\n",
       "      <td>45</td>\n",
       "      <td>34</td>\n",
       "      <td>42</td>\n",
       "      <td>39</td>\n",
       "    </tr>\n",
       "    <tr>\n",
       "      <th>Samsung Soundbar</th>\n",
       "      <td>35</td>\n",
       "      <td>39</td>\n",
       "      <td>41</td>\n",
       "      <td>36</td>\n",
       "      <td>37</td>\n",
       "    </tr>\n",
       "    <tr>\n",
       "      <th>LG OLED</th>\n",
       "      <td>43</td>\n",
       "      <td>52</td>\n",
       "      <td>40</td>\n",
       "      <td>41</td>\n",
       "      <td>37</td>\n",
       "    </tr>\n",
       "    <tr>\n",
       "      <th>Google Pixel</th>\n",
       "      <td>32</td>\n",
       "      <td>50</td>\n",
       "      <td>48</td>\n",
       "      <td>36</td>\n",
       "      <td>37</td>\n",
       "    </tr>\n",
       "    <tr>\n",
       "      <th>Nintendo Switch</th>\n",
       "      <td>36</td>\n",
       "      <td>37</td>\n",
       "      <td>32</td>\n",
       "      <td>37</td>\n",
       "      <td>36</td>\n",
       "    </tr>\n",
       "    <tr>\n",
       "      <th>Adobe Photoshop</th>\n",
       "      <td>38</td>\n",
       "      <td>39</td>\n",
       "      <td>33</td>\n",
       "      <td>35</td>\n",
       "      <td>36</td>\n",
       "    </tr>\n",
       "    <tr>\n",
       "      <th>MacBook Pro</th>\n",
       "      <td>45</td>\n",
       "      <td>25</td>\n",
       "      <td>38</td>\n",
       "      <td>43</td>\n",
       "      <td>35</td>\n",
       "    </tr>\n",
       "    <tr>\n",
       "      <th>Google Nest</th>\n",
       "      <td>49</td>\n",
       "      <td>38</td>\n",
       "      <td>33</td>\n",
       "      <td>43</td>\n",
       "      <td>35</td>\n",
       "    </tr>\n",
       "    <tr>\n",
       "      <th>Dell XPS</th>\n",
       "      <td>33</td>\n",
       "      <td>37</td>\n",
       "      <td>32</td>\n",
       "      <td>49</td>\n",
       "      <td>34</td>\n",
       "    </tr>\n",
       "    <tr>\n",
       "      <th>Sony PlayStation</th>\n",
       "      <td>36</td>\n",
       "      <td>49</td>\n",
       "      <td>35</td>\n",
       "      <td>52</td>\n",
       "      <td>30</td>\n",
       "    </tr>\n",
       "  </tbody>\n",
       "</table>\n",
       "</div>"
      ],
      "text/plain": [
       "Ticket Type                     Billing inquiry  Cancellation request  \\\n",
       "Product Purchased                                                       \n",
       "GoPro Hero                                   38                    42   \n",
       "Amazon Echo                                  43                    40   \n",
       "Garmin Forerunner                            45                    36   \n",
       "Canon EOS                                    46                    44   \n",
       "LG Washing Machine                           37                    40   \n",
       "Amazon Kindle                                36                    37   \n",
       "Apple AirPods                                55                    39   \n",
       "Nest Thermostat                              38                    43   \n",
       "Philips Hue Lights                           45                    49   \n",
       "Lenovo ThinkPad                              29                    37   \n",
       "Nikon D                                      37                    35   \n",
       "Dyson Vacuum Cleaner                         35                    39   \n",
       "PlayStation                                  46                    35   \n",
       "Roomba Robot Vacuum                          45                    35   \n",
       "Fitbit Charge                                32                    41   \n",
       "Nintendo Switch Pro Controller               32                    42   \n",
       "HP Pavilion                                  37                    42   \n",
       "iPhone                                       51                    45   \n",
       "Samsung Galaxy                               39                    26   \n",
       "Microsoft Xbox Controller                    38                    53   \n",
       "Microsoft Office                             39                    41   \n",
       "Sony 4K HDR TV                               45                    34   \n",
       "LG Smart TV                                  37                    53   \n",
       "Xbox                                         32                    40   \n",
       "Microsoft Surface                            29                    38   \n",
       "GoPro Action Camera                          30                    40   \n",
       "Bose QuietComfort                            49                    27   \n",
       "Sony Xperia                                  45                    48   \n",
       "Asus ROG                                     31                    45   \n",
       "Canon DSLR Camera                            41                    41   \n",
       "Fitbit Versa Smartwatch                      33                    40   \n",
       "Autodesk AutoCAD                             35                    37   \n",
       "Bose SoundLink Speaker                       37                    45   \n",
       "Samsung Soundbar                             35                    39   \n",
       "LG OLED                                      43                    52   \n",
       "Google Pixel                                 32                    50   \n",
       "Nintendo Switch                              36                    37   \n",
       "Adobe Photoshop                              38                    39   \n",
       "MacBook Pro                                  45                    25   \n",
       "Google Nest                                  49                    38   \n",
       "Dell XPS                                     33                    37   \n",
       "Sony PlayStation                             36                    49   \n",
       "\n",
       "Ticket Type                     Product inquiry  Refund request  \\\n",
       "Product Purchased                                                 \n",
       "GoPro Hero                                   41              50   \n",
       "Amazon Echo                                  39              51   \n",
       "Garmin Forerunner                            36              43   \n",
       "Canon EOS                                    52              50   \n",
       "LG Washing Machine                           42              43   \n",
       "Amazon Kindle                                35              44   \n",
       "Apple AirPods                                40              33   \n",
       "Nest Thermostat                              50              49   \n",
       "Philips Hue Lights                           41              41   \n",
       "Lenovo ThinkPad                              35              38   \n",
       "Nikon D                                      37              51   \n",
       "Dyson Vacuum Cleaner                         47              33   \n",
       "PlayStation                                  42              25   \n",
       "Roomba Robot Vacuum                          44              48   \n",
       "Fitbit Charge                                40              46   \n",
       "Nintendo Switch Pro Controller               46              40   \n",
       "HP Pavilion                                  36              42   \n",
       "iPhone                                       31              42   \n",
       "Samsung Galaxy                               41              46   \n",
       "Microsoft Xbox Controller                    31              32   \n",
       "Microsoft Office                             38              40   \n",
       "Sony 4K HDR TV                               45              44   \n",
       "LG Smart TV                                  49              38   \n",
       "Xbox                                         40              34   \n",
       "Microsoft Surface                            37              45   \n",
       "GoPro Action Camera                          33              39   \n",
       "Bose QuietComfort                            37              37   \n",
       "Sony Xperia                                  32              52   \n",
       "Asus ROG                                     40              31   \n",
       "Canon DSLR Camera                            35              50   \n",
       "Fitbit Versa Smartwatch                      37              42   \n",
       "Autodesk AutoCAD                             46              39   \n",
       "Bose SoundLink Speaker                       34              42   \n",
       "Samsung Soundbar                             41              36   \n",
       "LG OLED                                      40              41   \n",
       "Google Pixel                                 48              36   \n",
       "Nintendo Switch                              32              37   \n",
       "Adobe Photoshop                              33              35   \n",
       "MacBook Pro                                  38              43   \n",
       "Google Nest                                  33              43   \n",
       "Dell XPS                                     32              49   \n",
       "Sony PlayStation                             35              52   \n",
       "\n",
       "Ticket Type                     Technical issue  \n",
       "Product Purchased                                \n",
       "GoPro Hero                                   57  \n",
       "Amazon Echo                                  48  \n",
       "Garmin Forerunner                            48  \n",
       "Canon EOS                                    48  \n",
       "LG Washing Machine                           46  \n",
       "Amazon Kindle                                46  \n",
       "Apple AirPods                                46  \n",
       "Nest Thermostat                              45  \n",
       "Philips Hue Lights                           45  \n",
       "Lenovo ThinkPad                              44  \n",
       "Nikon D                                      44  \n",
       "Dyson Vacuum Cleaner                         44  \n",
       "PlayStation                                  44  \n",
       "Roomba Robot Vacuum                          44  \n",
       "Fitbit Charge                                43  \n",
       "Nintendo Switch Pro Controller               43  \n",
       "HP Pavilion                                  43  \n",
       "iPhone                                       43  \n",
       "Samsung Galaxy                               42  \n",
       "Microsoft Xbox Controller                    42  \n",
       "Microsoft Office                             42  \n",
       "Sony 4K HDR TV                               42  \n",
       "LG Smart TV                                  42  \n",
       "Xbox                                         41  \n",
       "Microsoft Surface                            41  \n",
       "GoPro Action Camera                          41  \n",
       "Bose QuietComfort                            40  \n",
       "Sony Xperia                                  40  \n",
       "Asus ROG                                     40  \n",
       "Canon DSLR Camera                            39  \n",
       "Fitbit Versa Smartwatch                      39  \n",
       "Autodesk AutoCAD                             39  \n",
       "Bose SoundLink Speaker                       39  \n",
       "Samsung Soundbar                             37  \n",
       "LG OLED                                      37  \n",
       "Google Pixel                                 37  \n",
       "Nintendo Switch                              36  \n",
       "Adobe Photoshop                              36  \n",
       "MacBook Pro                                  35  \n",
       "Google Nest                                  35  \n",
       "Dell XPS                                     34  \n",
       "Sony PlayStation                             30  "
      ]
     },
     "execution_count": 152,
     "metadata": {},
     "output_type": "execute_result"
    }
   ],
   "source": [
    "product_Issue = customer_ticket.groupby(['Product Purchased','Ticket Type']).size().unstack(fill_value = 0).sort_values(by ='Technical issue', ascending = False)\n",
    "product_Issue"
   ]
  },
  {
   "cell_type": "markdown",
   "id": "7fd60b87",
   "metadata": {},
   "source": [
    "###  b. By Recency of Purchase"
   ]
  },
  {
   "cell_type": "code",
   "execution_count": 157,
   "id": "38a755ef",
   "metadata": {},
   "outputs": [
    {
     "data": {
      "text/html": [
       "<div>\n",
       "<style scoped>\n",
       "    .dataframe tbody tr th:only-of-type {\n",
       "        vertical-align: middle;\n",
       "    }\n",
       "\n",
       "    .dataframe tbody tr th {\n",
       "        vertical-align: top;\n",
       "    }\n",
       "\n",
       "    .dataframe thead th {\n",
       "        text-align: right;\n",
       "    }\n",
       "</style>\n",
       "<table border=\"1\" class=\"dataframe\">\n",
       "  <thead>\n",
       "    <tr style=\"text-align: right;\">\n",
       "      <th>Ticket Type</th>\n",
       "      <th>Billing inquiry</th>\n",
       "      <th>Cancellation request</th>\n",
       "      <th>Product inquiry</th>\n",
       "      <th>Refund request</th>\n",
       "      <th>Technical issue</th>\n",
       "    </tr>\n",
       "    <tr>\n",
       "      <th>Year</th>\n",
       "      <th></th>\n",
       "      <th></th>\n",
       "      <th></th>\n",
       "      <th></th>\n",
       "      <th></th>\n",
       "    </tr>\n",
       "  </thead>\n",
       "  <tbody>\n",
       "    <tr>\n",
       "      <th>2020</th>\n",
       "      <td>802</td>\n",
       "      <td>850</td>\n",
       "      <td>847</td>\n",
       "      <td>898</td>\n",
       "      <td>839</td>\n",
       "    </tr>\n",
       "    <tr>\n",
       "      <th>2021</th>\n",
       "      <td>832</td>\n",
       "      <td>845</td>\n",
       "      <td>794</td>\n",
       "      <td>854</td>\n",
       "      <td>908</td>\n",
       "    </tr>\n",
       "  </tbody>\n",
       "</table>\n",
       "</div>"
      ],
      "text/plain": [
       "Ticket Type  Billing inquiry  Cancellation request  Product inquiry  \\\n",
       "Year                                                                  \n",
       "2020                     802                   850              847   \n",
       "2021                     832                   845              794   \n",
       "\n",
       "Ticket Type  Refund request  Technical issue  \n",
       "Year                                          \n",
       "2020                    898              839  \n",
       "2021                    854              908  "
      ]
     },
     "execution_count": 157,
     "metadata": {},
     "output_type": "execute_result"
    }
   ],
   "source": [
    "#Issue by Year\n",
    "issue_Year = customer_ticket.groupby(['Year', 'Ticket Type']).size().unstack(fill_value = 0)\n",
    "issue_Year"
   ]
  },
  {
   "cell_type": "code",
   "execution_count": 162,
   "id": "104e8672",
   "metadata": {},
   "outputs": [
    {
     "data": {
      "text/html": [
       "<div>\n",
       "<style scoped>\n",
       "    .dataframe tbody tr th:only-of-type {\n",
       "        vertical-align: middle;\n",
       "    }\n",
       "\n",
       "    .dataframe tbody tr th {\n",
       "        vertical-align: top;\n",
       "    }\n",
       "\n",
       "    .dataframe thead th {\n",
       "        text-align: right;\n",
       "    }\n",
       "</style>\n",
       "<table border=\"1\" class=\"dataframe\">\n",
       "  <thead>\n",
       "    <tr style=\"text-align: right;\">\n",
       "      <th>Ticket Type</th>\n",
       "      <th>Billing inquiry</th>\n",
       "      <th>Cancellation request</th>\n",
       "      <th>Product inquiry</th>\n",
       "      <th>Refund request</th>\n",
       "      <th>Technical issue</th>\n",
       "    </tr>\n",
       "    <tr>\n",
       "      <th>Monthname</th>\n",
       "      <th></th>\n",
       "      <th></th>\n",
       "      <th></th>\n",
       "      <th></th>\n",
       "      <th></th>\n",
       "    </tr>\n",
       "  </thead>\n",
       "  <tbody>\n",
       "    <tr>\n",
       "      <th>October</th>\n",
       "      <td>125</td>\n",
       "      <td>155</td>\n",
       "      <td>142</td>\n",
       "      <td>152</td>\n",
       "      <td>161</td>\n",
       "    </tr>\n",
       "    <tr>\n",
       "      <th>January</th>\n",
       "      <td>137</td>\n",
       "      <td>145</td>\n",
       "      <td>148</td>\n",
       "      <td>148</td>\n",
       "      <td>158</td>\n",
       "    </tr>\n",
       "    <tr>\n",
       "      <th>December</th>\n",
       "      <td>139</td>\n",
       "      <td>132</td>\n",
       "      <td>130</td>\n",
       "      <td>142</td>\n",
       "      <td>153</td>\n",
       "    </tr>\n",
       "    <tr>\n",
       "      <th>February</th>\n",
       "      <td>156</td>\n",
       "      <td>133</td>\n",
       "      <td>140</td>\n",
       "      <td>133</td>\n",
       "      <td>153</td>\n",
       "    </tr>\n",
       "    <tr>\n",
       "      <th>July</th>\n",
       "      <td>151</td>\n",
       "      <td>142</td>\n",
       "      <td>130</td>\n",
       "      <td>153</td>\n",
       "      <td>151</td>\n",
       "    </tr>\n",
       "    <tr>\n",
       "      <th>May</th>\n",
       "      <td>128</td>\n",
       "      <td>142</td>\n",
       "      <td>134</td>\n",
       "      <td>147</td>\n",
       "      <td>150</td>\n",
       "    </tr>\n",
       "    <tr>\n",
       "      <th>June</th>\n",
       "      <td>129</td>\n",
       "      <td>132</td>\n",
       "      <td>121</td>\n",
       "      <td>148</td>\n",
       "      <td>148</td>\n",
       "    </tr>\n",
       "    <tr>\n",
       "      <th>August</th>\n",
       "      <td>139</td>\n",
       "      <td>124</td>\n",
       "      <td>140</td>\n",
       "      <td>143</td>\n",
       "      <td>145</td>\n",
       "    </tr>\n",
       "    <tr>\n",
       "      <th>November</th>\n",
       "      <td>104</td>\n",
       "      <td>160</td>\n",
       "      <td>148</td>\n",
       "      <td>154</td>\n",
       "      <td>138</td>\n",
       "    </tr>\n",
       "    <tr>\n",
       "      <th>September</th>\n",
       "      <td>130</td>\n",
       "      <td>142</td>\n",
       "      <td>153</td>\n",
       "      <td>136</td>\n",
       "      <td>135</td>\n",
       "    </tr>\n",
       "    <tr>\n",
       "      <th>March</th>\n",
       "      <td>136</td>\n",
       "      <td>141</td>\n",
       "      <td>120</td>\n",
       "      <td>145</td>\n",
       "      <td>130</td>\n",
       "    </tr>\n",
       "    <tr>\n",
       "      <th>April</th>\n",
       "      <td>160</td>\n",
       "      <td>147</td>\n",
       "      <td>135</td>\n",
       "      <td>151</td>\n",
       "      <td>125</td>\n",
       "    </tr>\n",
       "  </tbody>\n",
       "</table>\n",
       "</div>"
      ],
      "text/plain": [
       "Ticket Type  Billing inquiry  Cancellation request  Product inquiry  \\\n",
       "Monthname                                                             \n",
       "October                  125                   155              142   \n",
       "January                  137                   145              148   \n",
       "December                 139                   132              130   \n",
       "February                 156                   133              140   \n",
       "July                     151                   142              130   \n",
       "May                      128                   142              134   \n",
       "June                     129                   132              121   \n",
       "August                   139                   124              140   \n",
       "November                 104                   160              148   \n",
       "September                130                   142              153   \n",
       "March                    136                   141              120   \n",
       "April                    160                   147              135   \n",
       "\n",
       "Ticket Type  Refund request  Technical issue  \n",
       "Monthname                                     \n",
       "October                 152              161  \n",
       "January                 148              158  \n",
       "December                142              153  \n",
       "February                133              153  \n",
       "July                    153              151  \n",
       "May                     147              150  \n",
       "June                    148              148  \n",
       "August                  143              145  \n",
       "November                154              138  \n",
       "September               136              135  \n",
       "March                   145              130  \n",
       "April                   151              125  "
      ]
     },
     "execution_count": 162,
     "metadata": {},
     "output_type": "execute_result"
    }
   ],
   "source": [
    "#Issue by Month\n",
    "issue_month_name = customer_ticket.groupby(['Monthname', 'Ticket Type']).size().unstack(fill_value = 0).sort_values(by = \"Technical issue\", ascending = False)\n",
    "issue_month_name"
   ]
  },
  {
   "cell_type": "markdown",
   "id": "9a68bb29",
   "metadata": {},
   "source": [
    "### Issues by Product Line"
   ]
  },
  {
   "cell_type": "code",
   "execution_count": 164,
   "id": "c5e00f9f",
   "metadata": {},
   "outputs": [
    {
     "name": "stdout",
     "output_type": "stream",
     "text": [
      "Ticket Type   Billing inquiry  Cancellation request  Product inquiry  \\\n",
      "Product Line                                                           \n",
      "Adobe                      38                    39               33   \n",
      "Amazon                     79                    77               74   \n",
      "Apple                      55                    39               40   \n",
      "Asus                       31                    45               40   \n",
      "Autodesk                   35                    37               46   \n",
      "Bose                       86                    72               71   \n",
      "Canon                      87                    85               87   \n",
      "Dell                       33                    37               32   \n",
      "Dyson                      35                    39               47   \n",
      "Fitbit                     65                    81               77   \n",
      "Garmin                     45                    36               36   \n",
      "GoPro                      68                    82               74   \n",
      "Google                     81                    88               81   \n",
      "HP                         37                    42               36   \n",
      "LG                        117                   145              131   \n",
      "Lenovo                     29                    37               35   \n",
      "MacBook                    45                    25               38   \n",
      "Microsoft                 106                   132              106   \n",
      "Nest                       38                    43               50   \n",
      "Nikon                      37                    35               37   \n",
      "Nintendo                   68                    79               78   \n",
      "Philips                    45                    49               41   \n",
      "PlayStation                46                    35               42   \n",
      "Roomba                     45                    35               44   \n",
      "Samsung                    74                    65               82   \n",
      "Sony                      126                   131              112   \n",
      "Xbox                       32                    40               40   \n",
      "iPhone                     51                    45               31   \n",
      "\n",
      "Ticket Type   Refund request  Technical issue  \n",
      "Product Line                                   \n",
      "Adobe                     35               36  \n",
      "Amazon                    95               94  \n",
      "Apple                     33               46  \n",
      "Asus                      31               40  \n",
      "Autodesk                  39               39  \n",
      "Bose                      79               79  \n",
      "Canon                    100               87  \n",
      "Dell                      49               34  \n",
      "Dyson                     33               44  \n",
      "Fitbit                    88               82  \n",
      "Garmin                    43               48  \n",
      "GoPro                     89               98  \n",
      "Google                    79               72  \n",
      "HP                        42               43  \n",
      "LG                       122              125  \n",
      "Lenovo                    38               44  \n",
      "MacBook                   43               35  \n",
      "Microsoft                117              125  \n",
      "Nest                      49               45  \n",
      "Nikon                     51               44  \n",
      "Nintendo                  77               79  \n",
      "Philips                   41               45  \n",
      "PlayStation               25               44  \n",
      "Roomba                    48               44  \n",
      "Samsung                   82               79  \n",
      "Sony                     148              112  \n",
      "Xbox                      34               41  \n",
      "iPhone                    42               43  \n"
     ]
    },
    {
     "ename": "AttributeError",
     "evalue": "'NoneType' object has no attribute 'sort_values'",
     "output_type": "error",
     "traceback": [
      "\u001b[1;31m---------------------------------------------------------------------------\u001b[0m",
      "\u001b[1;31mAttributeError\u001b[0m                            Traceback (most recent call last)",
      "Cell \u001b[1;32mIn[164], line 2\u001b[0m\n\u001b[0;32m      1\u001b[0m customer_ticket[\u001b[38;5;124m'\u001b[39m\u001b[38;5;124mProduct Line\u001b[39m\u001b[38;5;124m'\u001b[39m] \u001b[38;5;241m=\u001b[39m customer_ticket[\u001b[38;5;124m'\u001b[39m\u001b[38;5;124mProduct Purchased\u001b[39m\u001b[38;5;124m'\u001b[39m]\u001b[38;5;241m.\u001b[39mstr\u001b[38;5;241m.\u001b[39msplit()\u001b[38;5;241m.\u001b[39mstr[\u001b[38;5;241m0\u001b[39m]\n\u001b[1;32m----> 2\u001b[0m \u001b[38;5;28mprint\u001b[39m(customer_ticket\u001b[38;5;241m.\u001b[39mgroupby([\u001b[38;5;124m'\u001b[39m\u001b[38;5;124mProduct Line\u001b[39m\u001b[38;5;124m'\u001b[39m, \u001b[38;5;124m'\u001b[39m\u001b[38;5;124mTicket Type\u001b[39m\u001b[38;5;124m'\u001b[39m])\u001b[38;5;241m.\u001b[39msize()\u001b[38;5;241m.\u001b[39munstack(fill_value\u001b[38;5;241m=\u001b[39m\u001b[38;5;241m0\u001b[39m))\u001b[38;5;241m.\u001b[39msort_values(by \u001b[38;5;241m=\u001b[39m \u001b[38;5;124m'\u001b[39m\u001b[38;5;124mBilling inquiry\u001b[39m\u001b[38;5;124m'\u001b[39m, ascending \u001b[38;5;241m=\u001b[39m \u001b[38;5;28;01mFalse\u001b[39;00m)\n",
      "\u001b[1;31mAttributeError\u001b[0m: 'NoneType' object has no attribute 'sort_values'"
     ]
    }
   ],
   "source": [
    "customer_ticket['Product Line'] = customer_ticket['Product Purchased'].str.split().str[0]\n",
    "print(customer_ticket.groupby(['Product Line', 'Ticket Type']).size().unstack(fill_value=0)).sort_values(by = 'Billing inquiry', ascending = False)\n",
    "\n"
   ]
  },
  {
   "cell_type": "code",
   "execution_count": 166,
   "id": "48f24e73",
   "metadata": {},
   "outputs": [
    {
     "name": "stderr",
     "output_type": "stream",
     "text": [
      "C:\\Users\\user\\AppData\\Local\\Temp\\ipykernel_12512\\1633705761.py:10: FutureWarning: \n",
      "\n",
      "Passing `palette` without assigning `hue` is deprecated and will be removed in v0.14.0. Assign the `y` variable to `hue` and set `legend=False` for the same effect.\n",
      "\n",
      "  sns.barplot(x=top_billing.values, y=top_billing.index, palette=\"Blues_d\")\n"
     ]
    },
    {
     "data": {
      "image/png": "[encoded data removed]",
      "text/plain": [
       "<Figure size 800x400 with 1 Axes>"
      ]
     },
     "metadata": {},
     "output_type": "display_data"
    },
    {
     "name": "stderr",
     "output_type": "stream",
     "text": [
      "C:\\Users\\user\\AppData\\Local\\Temp\\ipykernel_12512\\1633705761.py:19: FutureWarning: \n",
      "\n",
      "Passing `palette` without assigning `hue` is deprecated and will be removed in v0.14.0. Assign the `y` variable to `hue` and set `legend=False` for the same effect.\n",
      "\n",
      "  sns.barplot(x=top_refund.values, y=top_refund.index, palette=\"Greens_d\")\n"
     ]
    },
    {
     "data": {
      "image/png": "[encoded data removed]",
      "text/plain": [
       "<Figure size 800x400 with 1 Axes>"
      ]
     },
     "metadata": {},
     "output_type": "display_data"
    },
    {
     "name": "stderr",
     "output_type": "stream",
     "text": [
      "C:\\Users\\user\\AppData\\Local\\Temp\\ipykernel_12512\\1633705761.py:28: FutureWarning: \n",
      "\n",
      "Passing `palette` without assigning `hue` is deprecated and will be removed in v0.14.0. Assign the `y` variable to `hue` and set `legend=False` for the same effect.\n",
      "\n",
      "  sns.barplot(x=top_technical.values, y=top_technical.index, palette=\"Reds_d\")\n"
     ]
    },
    {
     "data": {
      "image/png": "[encoded data removed]",
      "text/plain": [
       "<Figure size 800x400 with 1 Axes>"
      ]
     },
     "metadata": {},
     "output_type": "display_data"
    }
   ],
   "source": [
    "import matplotlib.pyplot as plt\n",
    "import seaborn as sns\n",
    "\n",
    "# Group by product line and ticket type, count occurrences\n",
    "issue_counts = customer_ticket.groupby(['Product Line', 'Ticket Type']).size().unstack(fill_value=0)\n",
    "\n",
    "# --- Billing Inquiry ---\n",
    "top_billing = issue_counts['Billing inquiry'].sort_values(ascending=False).head(5)\n",
    "plt.figure(figsize=(8,4))\n",
    "sns.barplot(x=top_billing.values, y=top_billing.index, palette=\"Blues_d\")\n",
    "plt.title('Top 5 Brands by Billing Inquiries')\n",
    "plt.xlabel('Number of Billing Inquiries')\n",
    "plt.ylabel('Product Line')\n",
    "plt.show();\n",
    "\n",
    "# --- Refund Request ---\n",
    "top_refund = issue_counts['Refund request'].sort_values(ascending=False).head(5)\n",
    "plt.figure(figsize=(8,4))\n",
    "sns.barplot(x=top_refund.values, y=top_refund.index, palette=\"Greens_d\")\n",
    "plt.title('Top 5 Brands by Refund Requests')\n",
    "plt.xlabel('Number of Refund Requests')\n",
    "plt.ylabel('Product Line')\n",
    "plt.show();\n",
    "\n",
    "# --- Technical Issue ---\n",
    "top_technical = issue_counts['Technical issue'].sort_values(ascending=False).head(5)\n",
    "plt.figure(figsize=(8,4))\n",
    "sns.barplot(x=top_technical.values, y=top_technical.index, palette=\"Reds_d\")\n",
    "plt.title('Top 5 Brands by Technical Issues')\n",
    "plt.xlabel('Number of Technical Issues')\n",
    "plt.ylabel('Product Line')\n",
    "plt.show();\n"
   ]
  },
  {
   "cell_type": "code",
   "execution_count": null,
   "id": "ca015acb",
   "metadata": {},
   "outputs": [],
   "source": []
  }
 ],
 "metadata": {
  "kernelspec": {
   "display_name": "Python 3 (ipykernel)",
   "language": "python",
   "name": "python3"
  },
  "language_info": {
   "codemirror_mode": {
    "name": "ipython",
    "version": 3
   },
   "file_extension": ".py",
   "mimetype": "text/x-python",
   "name": "python",
   "nbconvert_exporter": "python",
   "pygments_lexer": "ipython3",
   "version": "3.12.3"
  }
 },
 "nbformat": 4,
 "nbformat_minor": 5
}
